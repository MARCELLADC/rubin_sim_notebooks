{
 "cells": [
  {
   "cell_type": "code",
   "execution_count": 1,
   "id": "a8d995d6",
   "metadata": {},
   "outputs": [],
   "source": [
    "from rubin_sim.scheduler.modelObservatory import Model_observatory\n",
    "from rubin_sim.scheduler.surveys import BaseSurvey, Scripted_survey\n",
    "from rubin_sim.scheduler.utils import empty_observation, scheduled_observation\n",
    "from rubin_sim.scheduler.schedulers import Core_scheduler, simple_filter_sched\n",
    "from rubin_sim.scheduler import sim_runner\n",
    "\n",
    "import numpy as np\n",
    "import healpy as hp\n",
    "import matplotlib.pylab as plt\n",
    "%matplotlib inline\n",
    "\n",
    "import pandas as pd"
   ]
  },
  {
   "cell_type": "code",
   "execution_count": 2,
   "id": "ea496bb8",
   "metadata": {},
   "outputs": [],
   "source": [
    "# load up a model observatory.\n",
    "nside=32  # Specify the HEALpix resolution we want to do everything in.\n",
    "mo = Model_observatory(nside=nside)"
   ]
  },
  {
   "cell_type": "code",
   "execution_count": 3,
   "id": "b49577d8",
   "metadata": {},
   "outputs": [],
   "source": [
    "conditions = mo.return_conditions()"
   ]
  },
  {
   "cell_type": "code",
   "execution_count": 4,
   "id": "afedd0d8",
   "metadata": {},
   "outputs": [
    {
     "data": {
      "text/plain": [
       "60218.0"
      ]
     },
     "execution_count": 4,
     "metadata": {},
     "output_type": "execute_result"
    }
   ],
   "source": [
    "conditions.mjd"
   ]
  },
  {
   "cell_type": "code",
   "execution_count": 5,
   "id": "3e14024f",
   "metadata": {},
   "outputs": [],
   "source": [
    "# Let's make a few observations manually, then load them into a scripted survey object\n",
    "obs = scheduled_observation(10)\n",
    "obs['RA'] = 0\n",
    "obs['dec'] = np.radians(-90.)\n",
    "# Set them to be every 30 minutes, starting 2 hours from current mjd\n",
    "obs['mjd'] = conditions.mjd + np.arange(10)*0.5/24 + 2./24.\n",
    "obs['exptime'] = 30\n",
    "obs['nexp'] = 2\n",
    "obs['filter'] = 'i'\n",
    "obs['note'] = 'scripted'\n",
    "\n",
    "# This is a little tichy. Need to set these, \n",
    "# Otherwise they will not pass tests and get served up\n",
    "obs['flush_by_mjd'] = conditions.mjd + 10\n",
    "# Now some extra fields that need to be set\n",
    "obs['mjd_tol'] = 10./3600/24.\n",
    "obs['dist_tol'] = np.radians(3.)\n",
    "obs['alt_min'] = 0\n",
    "obs['alt_max'] = np.radians(85.)\n",
    "# This is effectively no hour angle limit. XXX--need to document better\n",
    "obs['HA_max'] = 0. # Hours\n",
    "obs['HA_min'] = 24.\n",
    "\n",
    "# You can make this list of scheduled observations any way you like! Can be one observations, or lots over years."
   ]
  },
  {
   "cell_type": "code",
   "execution_count": 6,
   "id": "42a46f68",
   "metadata": {},
   "outputs": [],
   "source": [
    "ss = Scripted_survey([])\n",
    "ss.set_script(obs)"
   ]
  },
  {
   "cell_type": "code",
   "execution_count": 7,
   "id": "a14b3441",
   "metadata": {},
   "outputs": [],
   "source": [
    "# Our friend the SCP survey from before\n",
    "class SCP_survey(BaseSurvey):\n",
    "    \"\"\"A South Celestial Pole survey\"\"\"\n",
    "    def generate_observations_rough(self, conditions):\n",
    "        obs = empty_observation()\n",
    "        obs['RA'] = 0.\n",
    "        obs['dec'] = np.radians(-87.)\n",
    "        obs['exptime'] = 30.\n",
    "        obs['nexp'] = 2\n",
    "        obs['filter'] = 'r'\n",
    "        # If it's been 12 hours or more, don't try to execute the observation anymore\n",
    "        obs['flush_by_mjd'] = conditions.mjd + 0.5\n",
    "        obs['note'] = 'scp'  # Always good to set the note to which survey generated the observation\n",
    "        result = [obs] * 3\n",
    "        return result"
   ]
  },
  {
   "cell_type": "code",
   "execution_count": 8,
   "id": "bcf21718",
   "metadata": {},
   "outputs": [],
   "source": [
    "scp = SCP_survey([])"
   ]
  },
  {
   "cell_type": "code",
   "execution_count": 9,
   "id": "c92c4637",
   "metadata": {},
   "outputs": [],
   "source": [
    "# Now, we can run both surveys at the same time. \n",
    "scheduler = Core_scheduler([[ss], [scp]], nside=nside)\n"
   ]
  },
  {
   "cell_type": "code",
   "execution_count": 10,
   "id": "780ba2ec",
   "metadata": {},
   "outputs": [
    {
     "name": "stdout",
     "output_type": "stream",
     "text": [
      "progress = 98.37%"
     ]
    },
    {
     "name": "stderr",
     "output_type": "stream",
     "text": [
      "/Users/yoachim/git_repos/rubin_sim/rubin_sim/skybrightness_pre/SkyModelPre.py:410: UserWarning: Requested MJD between sunrise and sunset, returning closest maps\n",
      "  warnings.warn(\n"
     ]
    },
    {
     "name": "stdout",
     "output_type": "stream",
     "text": [
      "Skipped 0 observations\n",
      "Flushed 0 observations from queue for being stale\n",
      "Completed 914 observations\n",
      "ran in 0 min = 0.0 hours\n",
      "Writing results to  None\n"
     ]
    }
   ],
   "source": [
    "mo, scheduler, observations = sim_runner(mo, scheduler,survey_length=1.0,\n",
    "                                                 verbose=True)"
   ]
  },
  {
   "cell_type": "code",
   "execution_count": 11,
   "id": "e3691689",
   "metadata": {},
   "outputs": [
    {
     "data": {
      "text/plain": [
       "array(['scp', 'scripted'], dtype='<U40')"
      ]
     },
     "execution_count": 11,
     "metadata": {},
     "output_type": "execute_result"
    }
   ],
   "source": [
    "# Wow, note now we have 914 observations. Down from 979 before. That's what 10 filter changes in a night will do.\n",
    "np.unique(observations['note'])"
   ]
  },
  {
   "cell_type": "code",
   "execution_count": 12,
   "id": "18ca1171",
   "metadata": {},
   "outputs": [
    {
     "data": {
      "text/plain": [
       "<matplotlib.legend.Legend at 0x7fb918bc6fd0>"
      ]
     },
     "execution_count": 12,
     "metadata": {},
     "output_type": "execute_result"
    },
    {
     "data": {
      "image/png": "[encoded data removed]",
      "text/plain": [
       "<Figure size 432x288 with 1 Axes>"
      ]
     },
     "metadata": {
      "needs_background": "light"
     },
     "output_type": "display_data"
    }
   ],
   "source": [
    "# let's plot and color-code by filter\n",
    "f2c = {'u': 'purple', 'g': 'blue', 'r': 'green',\n",
    "       'i': 'cyan', 'z': 'orange', 'y': 'red'}\n",
    "\n",
    "for filtername in f2c:\n",
    "    in_filt = np.where(observations['filter'] == filtername)[0]\n",
    "    if in_filt.size > 0:\n",
    "        plt.plot(observations['mjd'][in_filt], np.degrees(observations['alt'][in_filt]), 'o',\n",
    "                 color=f2c[filtername], label=filtername)\n",
    "plt.legend()"
   ]
  },
  {
   "cell_type": "code",
   "execution_count": null,
   "id": "51a2651d",
   "metadata": {},
   "outputs": [],
   "source": []
  },
  {
   "cell_type": "code",
   "execution_count": 14,
   "id": "cdacdb06",
   "metadata": {},
   "outputs": [],
   "source": [
    "# Keep in mind, that mjd_tol is a tricky paramter. If you make it very large, your\n",
    "# observation might execute earlier than you like. Set it small, and your background survey\n",
    "# might take too much time and box it out. "
   ]
  },
  {
   "cell_type": "code",
   "execution_count": null,
   "id": "d4e01aa7",
   "metadata": {},
   "outputs": [],
   "source": [
    "# Note on survey objects. 1-10s of survey objects are fine. (baseline currently has 17 survey objects). But \n",
    "# the code is not designed to scale up to thousands of survey objects. If you are tempted to generate\n",
    "# a decision tree with thoudands of survey objects there's probably a better way to do it."
   ]
  }
 ],
 "metadata": {
  "kernelspec": {
   "display_name": "Python 3 (ipykernel)",
   "language": "python",
   "name": "python3"
  },
  "language_info": {
   "codemirror_mode": {
    "name": "ipython",
    "version": 3
   },
   "file_extension": ".py",
   "mimetype": "text/x-python",
   "name": "python",
   "nbconvert_exporter": "python",
   "pygments_lexer": "ipython3",
   "version": "3.8.12"
  }
 },
 "nbformat": 4,
 "nbformat_minor": 5
}
