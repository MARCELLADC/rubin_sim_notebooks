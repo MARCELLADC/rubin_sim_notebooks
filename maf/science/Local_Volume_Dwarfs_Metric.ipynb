{
 "cells": [
  {
   "cell_type": "markdown",
   "id": "2815363e",
   "metadata": {},
   "source": [
    "## Dwarf galaxy discovery metric ##"
   ]
  },
  {
   "cell_type": "code",
   "execution_count": 11,
   "id": "9aabc3a2",
   "metadata": {},
   "outputs": [],
   "source": [
    "import os\n",
    "import numpy as np\n",
    "import healpy as hp\n",
    "from astropy.coordinates import SkyCoord\n",
    "from astropy.io import fits, ascii\n",
    "import astropy.units as u\n",
    "import matplotlib.pyplot as plt\n",
    "%matplotlib inline   \n",
    "# %matplotlib notebook"
   ]
  },
  {
   "cell_type": "code",
   "execution_count": 12,
   "id": "2e94e416",
   "metadata": {},
   "outputs": [],
   "source": [
    "# Import MAF\n",
    "import rubin_sim.maf as maf\n",
    "from rubin_sim.data import get_baseline"
   ]
  },
  {
   "cell_type": "markdown",
   "id": "96ed3a42-9346-47bd-a792-2546a5375b31",
   "metadata": {},
   "source": [
    "THIS CELL SHOULD DESCRIBE THE METRIC(S) AND THE PROCESS OF CALCULATING THEM."
   ]
  },
  {
   "cell_type": "markdown",
   "id": "8a2c3934-917f-482b-bf1c-4a1a9b33392d",
   "metadata": {},
   "source": [
    "### Methodology for Local Volume galaxies' dwarf satellites:\n",
    "We use the latest tables from the [Local Volume Galaxies Database](http://www.sao.ru/lv/lvgdb/]) (based on Karachentsev et al. 2013), limiting our selection to Dec < 35 deg. We calculate the stellar mass of all galaxies using their total K−band luminosities, assuming mass-to-light of 1.0 in K. We then limit the sample to galaxies with $M_{star} > 10^7 M_{Sun}$ (removing the faintest systems, which will not be expected to have significant dwarf satellite populations; e.g., Dooley et al. 2017b,a); this leaves a total of 302 galaxies between 1.3 < D < 9 Mpc (of which 139 are within 6 Mpc).\n",
    "\n",
    "The metric is evaluated at the positions of known galaxies by defining a custom `UserPointSlicer` object with the positions and distances to galaxies from the catalog described above. The function that creates this slicer is called `generateKnownLVDwarfSlicer`. (Note, however, that the metric can be calculated with a healpix map and a fixed distance limit; see below for more on this method.)\n",
    "\n",
    "To estimate the detectability of dwarf satellites, we begin by considering the unresolved background galaxies and foreground Milky Way stars that contaminate a CMD selection of candidate RGB stars. For each of the galaxies in our sample, we extract the expected number of galaxies per square arcmin using the **GalaxyCountsMetric**, and the expected stellar density from the **StarDensityMetric**. We apply a scaling factor (`cmd_frac`=0.1 by default) to account for the sub-region of the CMD inhabited by our tracers (RGB stars) relative to the full-CMD area spanned by the simulations, and an additional scaling factor to account for unresolved galaxy contamination (`stargal_contamination`=0.4 by default) in a stellar sample selection at the faint end. Then, with an estimated number of contaminants, we calculate the number of stars required to be detected to reach a given Poisson-limited signal-to-noise (S/N > 10 by default). For the region around each Local Volume galaxy, we use a function called `makeFakeLF` which reads in a [PARSEC](http://stev.oapd.inaf.it/cgi-bin/cmd) luminosity function for an old (10 Gyr), metal-poor (\\[M/H\\] = −1.5) population and generates fake dwarf galaxies using a simulated luminosity function (in g and i bands). We generate dwarfs with known luminosities, continuing to fainter luminosities until we reach the S/N threshold. Our final figure of merit (FoM) is the number of Local Volume galaxies for which the faintest detectable dwarf satellite galaxy is fainter than our chosen dwarf luminosity threshold ($M_V = −7$)."
   ]
  },
  {
   "cell_type": "markdown",
   "id": "686c323d",
   "metadata": {},
   "source": [
    "You need to connect to the opsim output, so let's do that first. <br>\n",
    "It's easy to use the current baseline simulation included with $RUBIN_SIM_DATA_DIR, so let's start with that."
   ]
  },
  {
   "cell_type": "code",
   "execution_count": 13,
   "id": "a5560945",
   "metadata": {},
   "outputs": [
    {
     "name": "stdout",
     "output_type": "stream",
     "text": [
      "/sims_maf/rubin_sim_data/sim_baseline/baseline_v2.0_10yrs.db\n",
      "baseline_v2.0_10yrs\n"
     ]
    }
   ],
   "source": [
    "opsim_fname = get_baseline()\n",
    "print(opsim_fname)\n",
    "\n",
    "runName = os.path.split(opsim_fname)[-1].replace('.db', '')\n",
    "print(runName)"
   ]
  },
  {
   "cell_type": "code",
   "execution_count": 14,
   "id": "e399aa55",
   "metadata": {},
   "outputs": [],
   "source": [
    "# Connect to the database so we can use it with MAF.\n",
    "opsim_db = maf.OpsimDatabase(opsim_fname)"
   ]
  },
  {
   "cell_type": "markdown",
   "id": "cf5d4730",
   "metadata": {},
   "source": [
    "And let's set up a slicer that will give us the observations that overlap a single point on the sky."
   ]
  },
  {
   "cell_type": "code",
   "execution_count": 15,
   "id": "9ac13b13-f64d-4bd7-a326-9329d4b9f448",
   "metadata": {},
   "outputs": [],
   "source": [
    "def generateKnownLVDwarfSlicer():\n",
    "    \"\"\"Generate a population of KNe events, and put the info about them\n",
    "    into a UserPointSlicer object\n",
    "    \"\"\"\n",
    "\n",
    "    # path = '/dlusers/jcarlin/rubin_sim_data/maf/LVDwarfs_data/'\n",
    "    path = '/dlusers/jcarlin/sims_maf/SMWLV-metrics/notebooks/'\n",
    "    lv_dat0 = fits.getdata(path+'lsst_galaxies_1p25to9Mpc_table.fits')\n",
    "\n",
    "    # Keep only galaxies at dec < 35 deg., and with stellar masses > 10^7 M_Sun (and <1e14).\n",
    "    lv_dat_cuts = (lv_dat0['dec'] < 35.0) & (lv_dat0['MStars'] > 1e7) & (lv_dat0['MStars'] < 1e14)\n",
    "    lv_dat = lv_dat0[lv_dat_cuts]\n",
    "\n",
    "    # Set up the slicer to evaluate the catalog we just made\n",
    "    slicer = maf.UserPointsSlicer(lv_dat['ra'], lv_dat['dec'], latLonDeg=True, badval=-666)\n",
    "    # Add any additional information about each object to the slicer\n",
    "    slicer.slicePoints[\"distance\"] = lv_dat['dist_Mpc']\n",
    "\n",
    "    return slicer"
   ]
  },
  {
   "cell_type": "code",
   "execution_count": 16,
   "id": "2c1da010-6d83-4746-adba-f4468ae004cd",
   "metadata": {},
   "outputs": [],
   "source": [
    "# lv_slicer = maf.mafContrib.generateKnownLVDwarfSlicer()\n",
    "lv_slicer = generateKnownLVDwarfSlicer()"
   ]
  },
  {
   "cell_type": "markdown",
   "id": "063ea6b8",
   "metadata": {},
   "source": [
    "Now set up to work with our Metric. Remember that the Metric will work on a single DataSlice at a time -- so \n",
    "*all* of (and *only*) the observation information it receives will be the visits relevant to this test_ra/test_dec location."
   ]
  },
  {
   "cell_type": "code",
   "execution_count": 50,
   "id": "95abea17-ca35-4639-9cb8-517335cca426",
   "metadata": {},
   "outputs": [],
   "source": [
    "# lf_dict_g, lf_dict_i = maf.mafContrib.make_LF_dicts()\n",
    "lf_dict_g, lf_dict_i = make_LF_dicts()"
   ]
  },
  {
   "cell_type": "code",
   "execution_count": 33,
   "id": "d182c51b",
   "metadata": {},
   "outputs": [],
   "source": [
    "class LVDwarfsMetric(maf.BaseMetric):\n",
    "    \"\"\"Documentation please. Numpy style docstrings. \n",
    "    \n",
    "    This example metric just finds the time of first observation of a particular part of the sky.\n",
    "    \n",
    "    Parameters\n",
    "    ----------\n",
    "    specificColumns : `str`, opt\n",
    "        It's nice to be flexible about what the relevant columns are called, so specify them here.\n",
    "        seeingCol = FWHMeff, etc. \n",
    "    kwargs : `float`, ? \n",
    "        Probably there are other things you need to set?\n",
    "    \"\"\"\n",
    "    # def __init__(self, nside=16, cmd_frac=0.1, stargal_contamination=0.40, nsigma=10.0, **kwargs):\n",
    "    def __init__(self, radius=2.45, distlim=None, cmd_frac=0.1, stargal_contamination=0.40, nsigma=10.0, **kwargs):\n",
    "        # maps = [\"CoaddM5\"]\n",
    "        # self.mjdCol = mjdCol\n",
    "        # self.nside = nside\n",
    "        self.radius = radius\n",
    "        self.filterCol = \"filter\"\n",
    "        self.m5Col = \"fiveSigmaDepth\"\n",
    "        self.cmd_frac = cmd_frac\n",
    "        self.stargal_contamination = stargal_contamination\n",
    "        self.nsigma = nsigma\n",
    "\n",
    "        if distlim is not None:\n",
    "            self.distlim = distlim\n",
    "        else:\n",
    "            self.distlim = None\n",
    "            # path = '/dlusers/jcarlin/rubin_sim_data/maf/LVDwarfs_data/'\n",
    "            path = '/dlusers/jcarlin/sims_maf/SMWLV-metrics/notebooks/'\n",
    "            lv_dat0 = fits.getdata(path+'lsst_galaxies_1p25to9Mpc_table.fits')\n",
    "            # Keep only galaxies at dec < 35 deg., and with stellar masses > 10^7 M_Sun.\n",
    "            lv_dat_cuts = (lv_dat0['dec'] < 35.0) & (lv_dat0['MStars'] > 1e7) & (lv_dat0['MStars'] < 1e14)\n",
    "            lv_dat = lv_dat0[lv_dat_cuts]\n",
    "            sc_dat = SkyCoord(ra=lv_dat['ra']*u.deg, dec=lv_dat['dec']*u.deg, distance=lv_dat['dist_Mpc']*u.Mpc)\n",
    "            self.sc_dat = sc_dat\n",
    "        \n",
    "        self.Coaddm5Metric = maf.simpleMetrics.Coaddm5Metric(m5Col=self.m5Col)\n",
    "        self.StarDensityMetric24 = maf.starDensity.StarDensityMetric(rmagLimit=24)\n",
    "        self.StarDensityMetric24p5 = maf.starDensity.StarDensityMetric(rmagLimit=24.5)\n",
    "        self.StarDensityMetric25 = maf.starDensity.StarDensityMetric(rmagLimit=25)\n",
    "        self.StarDensityMetric25p5 = maf.starDensity.StarDensityMetric(rmagLimit=25.5)\n",
    "        self.StarDensityMetric26 = maf.starDensity.StarDensityMetric(rmagLimit=26)\n",
    "        self.StarDensityMetric26p5 = maf.starDensity.StarDensityMetric(rmagLimit=26.5)\n",
    "        self.StarDensityMetric27 = maf.starDensity.StarDensityMetric(rmagLimit=27)\n",
    "        self.GalaxyCountsMetric = maf.mafContrib.LSSObsStrategy.galaxyCountsMetric_extended.GalaxyCountsMetric_extended(m5Col=self.m5Col)\n",
    "        # self.GalaxyCountsMetric = maf.mafContrib.LSSObsStrategy.galaxyCountsMetric_extended.GalaxyCountsMetric_extended(m5Col=self.m5Col, nside=self.nside)\n",
    "        cols = [self.m5Col, self.filterCol] # Add any columns that your metric needs to run -- mjdCol is just an example\n",
    "        maps = ['DustMap', 'StellarDensityMap']\n",
    "        super().__init__(col=cols, maps=maps, units='#', **kwargs)\n",
    "        \n",
    "    def run(self, dataSlice, slicePoint=None):\n",
    "        # This is where you write what your metric does. \n",
    "        # dataSlice == the numpy recarray containing the pointing information, \n",
    "        # with the columns that you said you needed in 'cols'\n",
    "        # slicePoint == the information about where you're evaluating this on the sky -- ra/dec,\n",
    "        # and if you specified that you need a dustmap or stellar density map, etc., those values will also \n",
    "        # be defined here\n",
    "        \n",
    "        # here's a super simple example .. replace with your own code to calculate your metric values\n",
    "        # tMin = dataSlice[self.mjdCol].min()\n",
    "        rband = (dataSlice[self.filterCol] == 'r')\n",
    "        gband = (dataSlice[self.filterCol] == 'g')\n",
    "        iband = (dataSlice[self.filterCol] == 'i')\n",
    "        r5 = self.Coaddm5Metric.run(dataSlice[rband])\n",
    "        g5 = self.Coaddm5Metric.run(dataSlice[gband])\n",
    "        i5 = self.Coaddm5Metric.run(dataSlice[iband])\n",
    "        nstar24 = self.StarDensityMetric24.run(dataSlice, slicePoint)\n",
    "        nstar24p5 = self.StarDensityMetric24p5.run(dataSlice, slicePoint)\n",
    "        nstar25 = self.StarDensityMetric25.run(dataSlice, slicePoint)\n",
    "        nstar25p5 = self.StarDensityMetric25p5.run(dataSlice, slicePoint)\n",
    "        nstar26 = self.StarDensityMetric26.run(dataSlice, slicePoint)\n",
    "        nstar26p5 = self.StarDensityMetric26p5.run(dataSlice, slicePoint)\n",
    "        nstar27 = self.StarDensityMetric27.run(dataSlice, slicePoint)\n",
    "        nstar = nstar27\n",
    "\n",
    "        # import pdb; pdb.set_trace()\n",
    "       \n",
    "        if 'nside' in slicePoint.keys():\n",
    "            nside = slicePoint['nside']\n",
    "            try:\n",
    "                ngal = self.GalaxyCountsMetric.run(dataSlice, slicePoint, nside=nside)\n",
    "            except:\n",
    "                ngal = 1e7\n",
    "                # print('healpix ',slicePoint['sid'], 'failed in GalaxyCountsMetric')\n",
    "        else:\n",
    "            ngal = self.GalaxyCountsMetric.run(dataSlice, slicePoint)\n",
    "\n",
    "            \n",
    "        # print(dataSlice)\n",
    "        nstar_all = nstar*0.0\n",
    "        rbinvals = np.arange(24.0, 27.5, 0.5)\n",
    "        rbinlimits = [nstar24, nstar24p5, nstar25, nstar25p5, nstar26, nstar26p5, nstar27]\n",
    "\n",
    "        # Star density is number of stars per square arcsec.\n",
    "        # Convert to a total number per healpix, then number per sq. arcmin:\n",
    "        # First, get the slicer pixel area.\n",
    "        # import pdb; pdb.set_trace()\n",
    "\n",
    "        '''\n",
    "        # Is this correct? How do I ensure that the metrics are using this healpix scale?\n",
    "        nside = self.nside\n",
    "\n",
    "        # Calculate the factor to go from number per healpix to number per square arcminute or per square arcsec\n",
    "        pixarea_deg = hp.nside2pixarea(nside, degrees=True)*(u.degree**2)\n",
    "        pixarea_arcmin = pixarea_deg.to(u.arcmin**2)\n",
    "        pixarea_arcsec = pixarea_deg.to(u.arcsec**2)\n",
    "        \n",
    "        nstar_all_per_healpix = nstar_all*pixarea_arcsec.value\n",
    "        nstar_all_per_arcmin = nstar_all_per_healpix/pixarea_arcmin.value\n",
    "\n",
    "        # Number of galaxies is the total in each healpix. Convert to number per sq. arcmin:\n",
    "        ngal_per_arcmin = ngal/pixarea_arcmin.value\n",
    "\n",
    "        # Star density is number of stars per square arcsec.\n",
    "        # Convert to a total number per healpix, then number per sq. arcmin:\n",
    "        nstar_per_healpix = nstar*pixarea_arcsec.value\n",
    "        nstar_per_arcmin = nstar_per_healpix/pixarea_arcmin.value\n",
    "        '''\n",
    "        \n",
    "        nstar0 = rbinlimits[np.argmin(np.abs(rbinvals-r5))]\n",
    "        \n",
    "        if 'nside' in slicePoint.keys():\n",
    "            nside = slicePoint['nside']\n",
    "            # Calculate the factor to go from number per healpix to number per square arcminute or per square arcsec\n",
    "            area_deg = hp.nside2pixarea(nside, degrees=True)*(u.degree**2)\n",
    "            area_arcmin = area_deg.to(u.arcmin**2)\n",
    "            area_arcsec = area_deg.to(u.arcsec**2)\n",
    "        else:\n",
    "            area_arcsec = np.pi*((self.radius*u.deg).to(u.arcsec)**2)\n",
    "            area_arcmin = np.pi*((self.radius*u.deg).to(u.arcmin)**2)\n",
    "\n",
    "        nstar_all = nstar0*area_arcsec.value\n",
    "\n",
    "        ngal_per_arcmin = ngal/area_arcmin.value\n",
    "        nstar_all_per_arcmin = nstar_all/area_arcmin.value\n",
    "        # print(ngal, nstar_all, r5, nstar_all_per_arcmin, ngal_per_arcmin)\n",
    "\n",
    "        nstars_required = self.nsigma*np.sqrt(ngal_per_arcmin*(self.cmd_frac*self.stargal_contamination)+(nstar_all_per_arcmin*self.cmd_frac))\n",
    "        \n",
    "        # Add a check so that if healpix slicer is used, distlim is also ***required***\n",
    "        if self.distlim is not None:\n",
    "            distlim = self.distlim\n",
    "        else:\n",
    "            distlim = slicePoint['distance']*u.Mpc\n",
    "            # sc_slice = SkyCoord(ra=slicePoint['ra']*u.rad, dec=slicePoint['dec']*u.rad)\n",
    "            # seps = sc_slice.separation(self.sc_dat)\n",
    "            # distlim = self.sc_dat[seps.argmin()].distance\n",
    "\n",
    "        mg_lim, mi_lim, sb_g_lim, sb_i_lim, flag_lim = sblimit(g5, i5, nstars_required, distlim=distlim.value)\n",
    "\n",
    "        # Use the conversion from Appendix A of Komiyama+2018, ApJ, 853, 29:\n",
    "        # V = g_hsc - 0.371*(gi_hsc)-0.068\n",
    "        mv = mg_lim - 0.371 * (mg_lim - mi_lim) - 0.068\n",
    "        # sbv = sb_g_lim - 0.371 * (sb_g_lim - sb_i_lim) - 0.068\n",
    "\n",
    "        # If the distance limit is outside the reachable range, set mv to \"badval\"\n",
    "        if (np.abs(mv) > 20) or np.isnan(mv):\n",
    "            mv = self.badval\n",
    "        # import pdb; pdb.set_trace()\n",
    "\n",
    "        return mv\n",
    "# When you re-run this cell, you may get a warning that the metric name already exists - that's ok! "
   ]
  },
  {
   "cell_type": "markdown",
   "id": "e0e45fb8",
   "metadata": {},
   "source": [
    "The typical way to use this metric with a slicer within MAF would be as follows: "
   ]
  },
  {
   "cell_type": "code",
   "execution_count": 66,
   "id": "ae9db759",
   "metadata": {},
   "outputs": [],
   "source": [
    "# Set up the metric\n",
    "# mymetric = maf.mafContrib.LVDwarfsMetric() # for the discrete LV galaxies\n",
    "# mymetric = maf.mafContrib.LVDwarfsMetric(distlim=0.05*u.Mpc) # for a distance limit, healpix map\n",
    "\n",
    "# mymetric = LVDwarfsMetric() # for the discrete LV galaxies\n",
    "mymetric = LVDwarfsMetric(distlim=0.3*u.Mpc) # for a distance limit, healpix map"
   ]
  },
  {
   "cell_type": "code",
   "execution_count": 67,
   "id": "e062b1bd",
   "metadata": {},
   "outputs": [],
   "source": [
    "# Define a sqlconstraint, if we need to just use a (large) subset of the opsim visits\n",
    "# sqlconstraint = 'filter = \"r\"'   # no constraint, make all visits available\n",
    "sqlconstraint = '(filter = \"r\" OR filter = \"i\" OR filter = \"g\")'   # no constraint, make all visits available\n",
    "# sqlconstraint = None   # no constraint, make all visits available\n",
    "\n",
    "# Examples of other potentially useful sqlconstraints:\n",
    "# sqlconstraint = 'filter = \"r\"'  # just select the visits in a particular filter\n",
    "# sqlconstraint = 'note not like \"%DD%\"'  # don't choose any of the DD field visits\n",
    "# sqlconstraint = 'night < 365'  # only use visits in the first year of the survey"
   ]
  },
  {
   "cell_type": "code",
   "execution_count": 68,
   "id": "8ef04ac8",
   "metadata": {},
   "outputs": [
    {
     "name": "stdout",
     "output_type": "stream",
     "text": [
      "Healpix slicer using NSIDE=16, approximate resolution 219.871130 arcminutes\n"
     ]
    }
   ],
   "source": [
    "# We already defined the slicer - combine the metric, slicer and sqlconstraint in a MetricBundle:\n",
    "# bundle = maf.MetricBundle(mymetric, test_slicer, sqlconstraint, runName=runName)\n",
    "# bundle = maf.MetricBundle(mymetric, lv_slicer, sqlconstraint, runName=runName)\n",
    "\n",
    "# lv_slicer = maf.UserPointsSlicer(lv_dat['ra'], lv_dat['dec'])\n",
    "\n",
    "test_slicer = maf.HealpixSlicer(nside=16)\n",
    "bundle = maf.MetricBundle(mymetric, test_slicer, sqlconstraint, runName=runName)\n"
   ]
  },
  {
   "cell_type": "code",
   "execution_count": null,
   "id": "727fb067-995f-4c13-aec7-9dbf70365f44",
   "metadata": {
    "tags": []
   },
   "outputs": [
    {
     "name": "stdout",
     "output_type": "stream",
     "text": [
      "Querying database observations with constraint (filter = \"r\" OR filter = \"i\" OR filter = \"g\") for columns ['filter', 'rotSkyPos', 'fieldDec', 'fiveSigmaDepth', 'fieldRA']\n"
     ]
    }
   ],
   "source": [
    "# Pass the bundle (along with any other bundles to be run on this opsim) to a MetricBundleGroup in order to\n",
    "# calculate the metric bundle values.\n",
    "g = maf.MetricBundleGroup({'test_metric': bundle}, opsim_db, outDir='test', resultsDb=None)\n",
    "# And calculate the metric\n",
    "g.runAll()"
   ]
  },
  {
   "cell_type": "markdown",
   "id": "876045a6",
   "metadata": {},
   "source": [
    "And then you can look at the `bundle.metricValues` to see what your metric calculated and how well things worked."
   ]
  },
  {
   "cell_type": "code",
   "execution_count": 65,
   "id": "bea608a9-fdd0-4ada-a894-442ec5df0cd9",
   "metadata": {},
   "outputs": [
    {
     "data": {
      "image/png": "[encoded data removed]",
      "text/plain": [
       "<Figure size 432x288 with 1 Axes>"
      ]
     },
     "metadata": {
      "needs_background": "light"
     },
     "output_type": "display_data"
    }
   ],
   "source": [
    "plt.hist(bundle.metricValues.data, bins=np.arange(-8, 4, 0.1), log=True, histtype='step')\n",
    "plt.hist(bundle.metricValues.data[bundle.metricValues.mask == False], bins=np.arange(-8, 4, 0.1), log=True, histtype='step')\n",
    "plt.show()"
   ]
  },
  {
   "cell_type": "code",
   "execution_count": 42,
   "id": "a5029c89-f6e2-4b4e-a08e-bb9d71f06335",
   "metadata": {},
   "outputs": [
    {
     "name": "stdout",
     "output_type": "stream",
     "text": [
      "0.4489795918367347 44\n"
     ]
    }
   ],
   "source": [
    "ok_mv = (bundle.metricValues.data < -0.5) & (bundle.metricValues.data > -5) & (bundle.metricValues.mask == False)\n",
    "# print(np.sum(ok_mv)/len(bundle.metricValues.data), np.sum(ok_mv))\n",
    "print(np.sum(ok_mv)/len(bundle.metricValues.data[(bundle.metricValues.mask == False)]), np.sum(ok_mv))"
   ]
  },
  {
   "cell_type": "markdown",
   "id": "bbca557a",
   "metadata": {},
   "source": [
    "BUT, when you're testing a new metric, you might run this many times over .. and querying the database each time is not necessary, if you are re-using the same columns from the database. If you're re-using exactly the same data (same columns, same sqlconstraint), you can skip the query like this:"
   ]
  },
  {
   "cell_type": "code",
   "execution_count": 85,
   "id": "3466afcb",
   "metadata": {},
   "outputs": [
    {
     "data": {
      "text/plain": [
       "masked_array(data=[--, -3.6135660071218707, --, -5.904419283923157,\n",
       "                   -2.523451726450029, -4.807962759070298, --,\n",
       "                   -4.0539481645795705, -4.747011781109957,\n",
       "                   -3.1830408740564824, -3.561617260050323,\n",
       "                   -3.4560458465171284, -3.8576535684282187,\n",
       "                   -3.1250944483594973, --, --, --, --,\n",
       "                   -2.810137928419676, --, --, --, -4.541675593199024, --,\n",
       "                   --, --, --, --, --, --, -3.2102979510061553,\n",
       "                   -5.1409614075615835, --, -6.5186254770562995, --, --,\n",
       "                   --, --, -6.021095876153222, -4.836851828025997,\n",
       "                   -5.074044704890024, --, -4.4987808898314645, --,\n",
       "                   -5.5714418366829195, --, --, --, -6.355565267425202,\n",
       "                   --, --, --, --, --, --, --, --, --, --, --, --, --, --,\n",
       "                   --, --, --, --, -4.489140276780067, -5.719655892072657,\n",
       "                   --, --, --, --, -5.151709043863397, --, --, --,\n",
       "                   -5.614163504032826, --, --, --, --, --, --, --, --, --,\n",
       "                   --, --, --, --, --, --, --, --, --, --, --, --, --, --,\n",
       "                   --, --, --, -1.6574523768284926, -2.942378701350758,\n",
       "                   --, -1.1767103746520329, --, --, --, --, --, --, --,\n",
       "                   --, --, --, --, --, --, -5.843533193487371, --, --, --,\n",
       "                   --, --, --, -6.491265034302348, --, -6.294727634584145,\n",
       "                   --, --, -5.170253714933244, --, --, --, --, --, --,\n",
       "                   -4.741897074755522, --, --, --, -5.063769179599478, --,\n",
       "                   -5.236628993788589, --, --, --, --, --, --, --, --, --,\n",
       "                   --, --, --, -4.40642042942984, --, -5.86230705385512,\n",
       "                   --, --, --, --, --, --, --, -6.006492868294846,\n",
       "                   -6.1719856491595095, --, --, --, --, --, --, --, --,\n",
       "                   --, --, --, --, --, --, --, --, --, -4.836092941914954,\n",
       "                   -5.635614683090633, --, --, --, --, --,\n",
       "                   -4.765113166942875, --, --, --, -5.726032595186666,\n",
       "                   -5.955686531271153, --, -4.77170055167644, --, --, --,\n",
       "                   --, --, --, --, --, -5.055375644069649, --, --,\n",
       "                   -4.952948521032196, -4.537640447431436,\n",
       "                   -5.449692745462496, -5.020807754000113,\n",
       "                   -5.0408861730982935, --, -5.261091063851773,\n",
       "                   -5.383267719450982, -5.43119958233995, --,\n",
       "                   -5.393334390938711, -4.81496272737701,\n",
       "                   -4.981390674313921, -5.7499859967056555,\n",
       "                   -5.303083929518842, -5.1263635580351465, --,\n",
       "                   -5.108696471707686, -5.642459975165183,\n",
       "                   -4.76986950237943, -5.136283557582824,\n",
       "                   -4.716659414613684, -5.957229920478859,\n",
       "                   -5.147940900505291, -4.979694583702541,\n",
       "                   -5.0428686269748635, -5.64950641299789, --,\n",
       "                   -5.09535717898625, --, --, -5.543486796434495,\n",
       "                   -5.62447618069607, -5.398605883959104,\n",
       "                   -5.268637552627671, -4.938559679609984,\n",
       "                   -5.555180950802916, -4.893744250134159, --, --,\n",
       "                   -4.81274448530541, -5.220658644402656,\n",
       "                   -5.8250660361229745, -5.536948151973869,\n",
       "                   -5.169545365900332, -5.367951038575114,\n",
       "                   -5.315935208484595, -4.8130390094339965,\n",
       "                   -4.727360781931378, -5.233111251152119,\n",
       "                   -5.511373025827959, -5.635659412174708,\n",
       "                   -5.314688268036691, -4.753091004740165, --,\n",
       "                   -5.180653911872994, --, -7.026472898894144, --,\n",
       "                   -5.667959214759646, --, --, --, --, -5.842363233028682,\n",
       "                   --, -5.210930167126067, --, --, --, --, --, --, --,\n",
       "                   -3.166273866352404, --, --, --, -3.6596581663960204,\n",
       "                   -2.4621936350734206, --, --, --, --, --,\n",
       "                   -4.223925562700847, --, -3.7542666189614256],\n",
       "             mask=[ True, False,  True, False, False, False,  True, False,\n",
       "                   False, False, False, False, False, False,  True,  True,\n",
       "                    True,  True, False,  True,  True,  True, False,  True,\n",
       "                    True,  True,  True,  True,  True,  True, False, False,\n",
       "                    True, False,  True,  True,  True,  True, False, False,\n",
       "                   False,  True, False,  True, False,  True,  True,  True,\n",
       "                   False,  True,  True,  True,  True,  True,  True,  True,\n",
       "                    True,  True,  True,  True,  True,  True,  True,  True,\n",
       "                    True,  True,  True, False, False,  True,  True,  True,\n",
       "                    True, False,  True,  True,  True, False,  True,  True,\n",
       "                    True,  True,  True,  True,  True,  True,  True,  True,\n",
       "                    True,  True,  True,  True,  True,  True,  True,  True,\n",
       "                    True,  True,  True,  True,  True,  True,  True,  True,\n",
       "                   False, False,  True, False,  True,  True,  True,  True,\n",
       "                    True,  True,  True,  True,  True,  True,  True,  True,\n",
       "                    True, False,  True,  True,  True,  True,  True,  True,\n",
       "                   False,  True, False,  True,  True, False,  True,  True,\n",
       "                    True,  True,  True,  True, False,  True,  True,  True,\n",
       "                   False,  True, False,  True,  True,  True,  True,  True,\n",
       "                    True,  True,  True,  True,  True,  True,  True, False,\n",
       "                    True, False,  True,  True,  True,  True,  True,  True,\n",
       "                    True, False, False,  True,  True,  True,  True,  True,\n",
       "                    True,  True,  True,  True,  True,  True,  True,  True,\n",
       "                    True,  True,  True,  True, False, False,  True,  True,\n",
       "                    True,  True,  True, False,  True,  True,  True, False,\n",
       "                   False,  True, False,  True,  True,  True,  True,  True,\n",
       "                    True,  True,  True, False,  True,  True, False, False,\n",
       "                   False, False, False,  True, False, False, False,  True,\n",
       "                   False, False, False, False, False, False,  True, False,\n",
       "                   False, False, False, False, False, False, False, False,\n",
       "                   False,  True, False,  True,  True, False, False, False,\n",
       "                   False, False, False, False,  True,  True, False, False,\n",
       "                   False, False, False, False, False, False, False, False,\n",
       "                   False, False, False, False,  True, False,  True, False,\n",
       "                    True, False,  True,  True,  True,  True, False,  True,\n",
       "                   False,  True,  True,  True,  True,  True,  True,  True,\n",
       "                   False,  True,  True,  True, False, False,  True,  True,\n",
       "                    True,  True,  True, False,  True, False],\n",
       "       fill_value=-666.0)"
      ]
     },
     "execution_count": 85,
     "metadata": {},
     "output_type": "execute_result"
    }
   ],
   "source": [
    "# See new bundle metric values\n",
    "# bundle.metricValues[bundle.metricValues.mask == True].fill(1111.1)\n",
    "bundle.metricValues"
   ]
  },
  {
   "cell_type": "code",
   "execution_count": 54,
   "id": "185d6e8c",
   "metadata": {},
   "outputs": [
    {
     "data": {
      "text/plain": [
       "{'FracAbove -7.00 in data': 1.0, 'FracBelow -0.50 data': 1.0}"
      ]
     },
     "execution_count": 54,
     "metadata": {},
     "output_type": "execute_result"
    }
   ],
   "source": [
    "summary1 = maf.FracAboveMetric(col='data', cutoff=-7.0)\n",
    "summary2 = maf.FracBelowMetric(col='data', cutoff=-0.5)\n",
    "bundle.setSummaryMetrics([summary1, summary2])\n",
    "bundle.computeSummaryStats()\n",
    "bundle.summaryValues\n",
    "# This doesn't work, because we need to also be able to set MV<0 and mask==False. How do you combine them?"
   ]
  },
  {
   "cell_type": "code",
   "execution_count": 55,
   "id": "6f6f1800-3afb-456f-aa3d-4454fe3a16bd",
   "metadata": {},
   "outputs": [
    {
     "name": "stderr",
     "output_type": "stream",
     "text": [
      "0.0 180.0 -180.0 180.0\n"
     ]
    },
    {
     "data": {
      "text/plain": [
       "{'SkyMap': 1, 'Histogram': 2}"
      ]
     },
     "execution_count": 55,
     "metadata": {},
     "output_type": "execute_result"
    },
    {
     "data": {
      "image/png": "[encoded data removed]",
      "text/plain": [
       "<Figure size 432x288 with 2 Axes>"
      ]
     },
     "metadata": {
      "needs_background": "light"
     },
     "output_type": "display_data"
    },
    {
     "data": {
      "image/png": "[encoded data removed]",
      "text/plain": [
       "<Figure size 432x288 with 1 Axes>"
      ]
     },
     "metadata": {
      "needs_background": "light"
     },
     "output_type": "display_data"
    }
   ],
   "source": [
    "bundle.setPlotDict({'maskAbove':-0.5})\n",
    "bundle.plot()\n"
   ]
  },
  {
   "cell_type": "code",
   "execution_count": 75,
   "id": "e905a88d-91f4-4d39-8d88-ac8d659fc874",
   "metadata": {},
   "outputs": [
    {
     "data": {
      "text/plain": [
       "\u001b[0;31mSignature:\u001b[0m \u001b[0mbundle\u001b[0m\u001b[0;34m.\u001b[0m\u001b[0mcomputeSummaryStats\u001b[0m\u001b[0;34m(\u001b[0m\u001b[0mresultsDb\u001b[0m\u001b[0;34m=\u001b[0m\u001b[0;32mNone\u001b[0m\u001b[0;34m)\u001b[0m\u001b[0;34m\u001b[0m\u001b[0;34m\u001b[0m\u001b[0m\n",
       "\u001b[0;31mDocstring:\u001b[0m\n",
       "Compute summary statistics on metricValues, using summaryMetrics (metricbundle list).\n",
       "\n",
       "Parameters\n",
       "----------\n",
       "resultsDb : Optional[ResultsDb]\n",
       "    ResultsDb object to use to store the summary statistic values on disk.\n",
       "\u001b[0;31mFile:\u001b[0m      /data0/sw/lsst_stack-2021.10.13/rubin_sim/rubin_sim/maf/metricBundles/metricBundle.py\n",
       "\u001b[0;31mType:\u001b[0m      method\n"
      ]
     },
     "metadata": {},
     "output_type": "display_data"
    }
   ],
   "source": [
    "maf."
   ]
  },
  {
   "cell_type": "code",
   "execution_count": null,
   "id": "70f4ed1f-feed-41de-bbb0-7ce624ffec92",
   "metadata": {},
   "outputs": [],
   "source": []
  },
  {
   "cell_type": "code",
   "execution_count": null,
   "id": "e1ebe8fe-8057-41d9-8102-132e6e243dbf",
   "metadata": {},
   "outputs": [],
   "source": []
  },
  {
   "cell_type": "code",
   "execution_count": 27,
   "id": "317f90a6-ece9-4ff4-aab8-a03b01aafe2e",
   "metadata": {},
   "outputs": [],
   "source": [
    "def makeFakeLF(intB, mu, filtername):\n",
    "    if (filtername == 'y'):\n",
    "        filtername == 'Y'\n",
    "    modelBmag = 6.856379  # integrated B mag of the model LF being read\n",
    "    # path = '/dlusers/jcarlin/rubin_sim_data/maf/LVDwarfs_data/'\n",
    "    path = '/dlusers/jcarlin/sims_maf/SMWLV-metrics/notebooks/'\n",
    "    LF = ascii.read(path+'LF_-1.5_10Gyr.dat', header_start=12)\n",
    "    mags = LF['magbinc']\n",
    "    counts = LF[filtername+'mag']\n",
    "    # shift model LF to requested distance and dim it\n",
    "    mags = mags + mu\n",
    "    modelBmag = modelBmag + mu\n",
    "    # scale model counts up/down to reach the requested intB\n",
    "    factor = np.power(10.0, -0.4*(intB-modelBmag))\n",
    "    counts = factor * counts\n",
    "    return mags, counts"
   ]
  },
  {
   "cell_type": "code",
   "execution_count": 43,
   "id": "d5e5b124-d5f0-4ede-b923-28dfc9e38e14",
   "metadata": {},
   "outputs": [],
   "source": [
    "def make_LF_dicts():\n",
    "    lf_dict_i = {}\n",
    "    lf_dict_g = {}\n",
    "    tmp_MB = -10.0\n",
    "\n",
    "    for i in range(131):\n",
    "        mbkey = f'MB{tmp_MB:.2f}'\n",
    "        iLFmags, iLFcounts = makeFakeLF(tmp_MB, 0.0, 'i')\n",
    "        lf_dict_i[mbkey] = (np.array(iLFmags), np.array(iLFcounts))\n",
    "        gLFmags, gLFcounts = makeFakeLF(tmp_MB, 0.0, 'g')\n",
    "        lf_dict_g[mbkey] = (np.array(gLFmags), np.array(gLFcounts))\n",
    "        tmp_MB += 0.1\n",
    "\n",
    "    return lf_dict_g, lf_dict_i"
   ]
  },
  {
   "cell_type": "code",
   "execution_count": 29,
   "id": "f87580e7-4b69-49a0-b453-ae22b8fb24d6",
   "metadata": {},
   "outputs": [],
   "source": [
    "def sum_luminosity(LFmags, LFcounts):\n",
    "    magref = LFmags[0]\n",
    "    totlum = 0.0\n",
    "\n",
    "    for mag, count in zip(LFmags, LFcounts):\n",
    "        tmpmags = np.repeat(mag, count)\n",
    "        totlum += np.sum(10.0**((magref - tmpmags)/2.5))\n",
    "\n",
    "    mtot = magref-2.5*np.log10(totlum)\n",
    "    return mtot"
   ]
  },
  {
   "cell_type": "code",
   "execution_count": 30,
   "id": "b6066f0a-9e42-4522-991f-abab57253af1",
   "metadata": {},
   "outputs": [],
   "source": [
    "def sblimit(glim, ilim, nstars, distlim):\n",
    "    distance_limit = distlim*1e6  # distance limit in parsecs\n",
    "    distmod_lim = 5.0*np.log10(distance_limit) - 5.0\n",
    "    \n",
    "    if (glim > 15) and (ilim > 15):\n",
    "        # print(glim, ilim, nstars)\n",
    "        fake_MB = -10.0\n",
    "        ng = 1e6\n",
    "        ni = 1e6\n",
    "\n",
    "        while (ng > nstars) and (ni > nstars) and fake_MB < -2.0:\n",
    "            # B_fake = distmod_limit+fake_MB\n",
    "            mbkey = f'MB{fake_MB:.2f}'\n",
    "            iLFmags0, iLFcounts0 = lf_dict_i[mbkey]\n",
    "            gLFmags0, gLFcounts0 = lf_dict_g[mbkey]\n",
    "            iLFcounts = np.random.poisson(iLFcounts0)\n",
    "            gLFcounts = np.random.poisson(gLFcounts0)\n",
    "            iLFmags = iLFmags0+distmod_lim  # Add the distance modulus to make it apparent mags\n",
    "            gLFmags = gLFmags0+distmod_lim  # Add the distance modulus to make it apparent mags\n",
    "            # print(iLFcounts0-iLFcounts)\n",
    "            gsel = (gLFmags <= glim)\n",
    "            isel = (iLFmags <= ilim)\n",
    "            ng = np.sum(gLFcounts[gsel])\n",
    "            ni = np.sum(iLFcounts[isel])\n",
    "            # print('fake_MB: ',fake_MB, ' ng: ',ng, ' ni: ', ni, ' nstars: ', nstars)\n",
    "            fake_MB += 0.1\n",
    "\n",
    "        if fake_MB > -9.9:\n",
    "            gmag_tot = sum_luminosity(gLFmags[gsel], gLFcounts[gsel]) - distmod_lim\n",
    "            imag_tot = sum_luminosity(iLFmags[isel], iLFcounts[isel]) - distmod_lim\n",
    "            # S = m + 2.5logA, where in this case things are in sq. arcmin, so A = 1 arcmin^2 = 3600 arcsec^2\n",
    "            sbtot_g = distmod_lim + gmag_tot + 2.5*np.log10(3600.0)\n",
    "            sbtot_i = distmod_lim + imag_tot + 2.5*np.log10(3600.0)\n",
    "            mg_lim = gmag_tot\n",
    "            mi_lim = imag_tot\n",
    "            sbg_lim = sbtot_g\n",
    "            sbi_lim = sbtot_i\n",
    "            if (ng < ni):\n",
    "                flag_lim = 'g'\n",
    "            else:\n",
    "                flag_lim = 'i'\n",
    "        else:\n",
    "            mg_lim= 999.9\n",
    "            mi_lim = 999.9\n",
    "            sbg_lim = 999.9\n",
    "            sbi_lim = 999.9\n",
    "            flag_lim = 'none'\n",
    "    else:\n",
    "        mg_lim = 999.9\n",
    "        mi_lim = 999.9\n",
    "        sbg_lim = -999.9\n",
    "        sbi_lim = -999.9\n",
    "        flag_lim = 'none'\n",
    "\n",
    "    return mg_lim, mi_lim, sbg_lim, sbi_lim, flag_lim"
   ]
  },
  {
   "cell_type": "code",
   "execution_count": 27,
   "id": "5b64f4b9-b555-45e2-a765-563852996843",
   "metadata": {},
   "outputs": [],
   "source": [
    "from astropy.io import fits, ascii\n",
    "\n",
    "lf_dict_g, lf_dict_i = make_LF_dicts()\n",
    "\n",
    "lv_dat0 = fits.getdata('lsst_galaxies_1p25to9Mpc_table.fits')\n",
    "\n",
    "# Keep only galaxies at dec < 35 deg., and with stellar masses > 10^7 M_Sun.\n",
    "\n",
    "lv_dat_cuts = (lv_dat0['dec'] < 35.0) & (lv_dat0['MStars'] > 1e7) & (lv_dat0['MStars'] < 1e14)\n",
    "lv_dat = lv_dat0[lv_dat_cuts]\n",
    "\n",
    "lv_slicer = maf.UserPointsSlicer(lv_dat['ra'], lv_dat['dec'])"
   ]
  },
  {
   "cell_type": "code",
   "execution_count": 44,
   "id": "dc664a12-9f16-4461-9732-938328612bc2",
   "metadata": {},
   "outputs": [
    {
     "data": {
      "text/plain": [
       "\u001b[0;31mInit signature:\u001b[0m\n",
       "\u001b[0mmaf\u001b[0m\u001b[0;34m.\u001b[0m\u001b[0mUserPointsSlicer\u001b[0m\u001b[0;34m(\u001b[0m\u001b[0;34m\u001b[0m\n",
       "\u001b[0;34m\u001b[0m    \u001b[0mra\u001b[0m\u001b[0;34m,\u001b[0m\u001b[0;34m\u001b[0m\n",
       "\u001b[0;34m\u001b[0m    \u001b[0mdec\u001b[0m\u001b[0;34m,\u001b[0m\u001b[0;34m\u001b[0m\n",
       "\u001b[0;34m\u001b[0m    \u001b[0mlonCol\u001b[0m\u001b[0;34m=\u001b[0m\u001b[0;34m'fieldRA'\u001b[0m\u001b[0;34m,\u001b[0m\u001b[0;34m\u001b[0m\n",
       "\u001b[0;34m\u001b[0m    \u001b[0mlatCol\u001b[0m\u001b[0;34m=\u001b[0m\u001b[0;34m'fieldDec'\u001b[0m\u001b[0;34m,\u001b[0m\u001b[0;34m\u001b[0m\n",
       "\u001b[0;34m\u001b[0m    \u001b[0mlatLonDeg\u001b[0m\u001b[0;34m=\u001b[0m\u001b[0;32mTrue\u001b[0m\u001b[0;34m,\u001b[0m\u001b[0;34m\u001b[0m\n",
       "\u001b[0;34m\u001b[0m    \u001b[0mverbose\u001b[0m\u001b[0;34m=\u001b[0m\u001b[0;32mTrue\u001b[0m\u001b[0;34m,\u001b[0m\u001b[0;34m\u001b[0m\n",
       "\u001b[0;34m\u001b[0m    \u001b[0mbadval\u001b[0m\u001b[0;34m=\u001b[0m\u001b[0;34m-\u001b[0m\u001b[0;36m666\u001b[0m\u001b[0;34m,\u001b[0m\u001b[0;34m\u001b[0m\n",
       "\u001b[0;34m\u001b[0m    \u001b[0mleafsize\u001b[0m\u001b[0;34m=\u001b[0m\u001b[0;36m100\u001b[0m\u001b[0;34m,\u001b[0m\u001b[0;34m\u001b[0m\n",
       "\u001b[0;34m\u001b[0m    \u001b[0mradius\u001b[0m\u001b[0;34m=\u001b[0m\u001b[0;36m2.45\u001b[0m\u001b[0;34m,\u001b[0m\u001b[0;34m\u001b[0m\n",
       "\u001b[0;34m\u001b[0m    \u001b[0museCamera\u001b[0m\u001b[0;34m=\u001b[0m\u001b[0;32mTrue\u001b[0m\u001b[0;34m,\u001b[0m\u001b[0;34m\u001b[0m\n",
       "\u001b[0;34m\u001b[0m    \u001b[0mcameraFootprintFile\u001b[0m\u001b[0;34m=\u001b[0m\u001b[0;32mNone\u001b[0m\u001b[0;34m,\u001b[0m\u001b[0;34m\u001b[0m\n",
       "\u001b[0;34m\u001b[0m    \u001b[0mrotSkyPosColName\u001b[0m\u001b[0;34m=\u001b[0m\u001b[0;34m'rotSkyPos'\u001b[0m\u001b[0;34m,\u001b[0m\u001b[0;34m\u001b[0m\n",
       "\u001b[0;34m\u001b[0m\u001b[0;34m)\u001b[0m\u001b[0;34m\u001b[0m\u001b[0;34m\u001b[0m\u001b[0m\n",
       "\u001b[0;31mDocstring:\u001b[0m     \n",
       "A spatial slicer that evaluates pointings overlapping user-provided list of points.\n",
       "\n",
       "Parameters\n",
       "----------\n",
       "ra : `list` or `numpy.ndarray`\n",
       "    User-selected RA points, in degrees. Stored internally in radians.\n",
       "dec : `list` or `numpy.ndarray`\n",
       "    User-selected Dec points, in degrees. Stored internally in radians.\n",
       "lonCol : `str`, optional\n",
       "    Name of the longitude (RA equivalent) column to use from the input data.\n",
       "    Default fieldRA\n",
       "latCol : `str`, optional\n",
       "    Name of the latitude (Dec equivalent) column to use from the input data.\n",
       "    Default fieldDec\n",
       "latLonDeg : `bool`, optional\n",
       "    Flag indicating whether the lon and lat values will be in degrees (True) or radians (False).\n",
       "    Default True (appropriate for opsim v4).\n",
       "verbose : `bool`, optional\n",
       "    Flag to indicate whether or not to write additional information to stdout during runtime.\n",
       "    Default True.\n",
       "badval : `float`, optional\n",
       "    Bad value flag, relevant for plotting. Default -666.\n",
       "leafsize : `int`, optional\n",
       "    Leafsize value for kdtree. Default 100.\n",
       "radius : `float`, optional\n",
       "    Radius for matching in the kdtree. Equivalent to the radius of the FOV. Degrees.\n",
       "    Default 2.45.\n",
       "useCamera : `bool`, optional\n",
       "    Flag to indicate whether to use the LSST camera footprint or not.\n",
       "    Default True.\n",
       "cameraFootprintFile : `str`, optional\n",
       "    Name of the camera footprint map to use. Can be None, which will use the default.\n",
       "rotSkyPosColName : `str`, optional\n",
       "    Name of the rotSkyPos column in the input  data. Only used if useCamera is True.\n",
       "    Describes the orientation of the camera orientation compared to the sky.\n",
       "    Default rotSkyPos.\n",
       "\u001b[0;31mFile:\u001b[0m           /data0/sw/lsst_stack-2021.10.13/rubin_sim/rubin_sim/maf/slicers/userPointsSlicer.py\n",
       "\u001b[0;31mType:\u001b[0m           SlicerRegistry\n",
       "\u001b[0;31mSubclasses:\u001b[0m     \n"
      ]
     },
     "metadata": {},
     "output_type": "display_data"
    }
   ],
   "source": [
    "maf.UserPointsSlicer?"
   ]
  },
  {
   "cell_type": "code",
   "execution_count": null,
   "id": "0463df00-72f9-4c9c-9a40-004499cc7dd3",
   "metadata": {},
   "outputs": [],
   "source": []
  }
 ],
 "metadata": {
  "kernelspec": {
   "display_name": "LSST-2021.10.13 Py3",
   "language": "python",
   "name": "lsst_sims_maf-2021.10.13"
  },
  "language_info": {
   "codemirror_mode": {
    "name": "ipython",
    "version": 3
   },
   "file_extension": ".py",
   "mimetype": "text/x-python",
   "name": "python",
   "nbconvert_exporter": "python",
   "pygments_lexer": "ipython3",
   "version": "3.8.8"
  }
 },
 "nbformat": 4,
 "nbformat_minor": 5
}
