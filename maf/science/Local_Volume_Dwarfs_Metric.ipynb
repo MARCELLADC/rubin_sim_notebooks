{
 "cells": [
  {
   "cell_type": "markdown",
   "id": "2815363e",
   "metadata": {},
   "source": [
    "## Dwarf galaxy discovery metric ##"
   ]
  },
  {
   "cell_type": "code",
   "execution_count": 1,
   "id": "9aabc3a2",
   "metadata": {},
   "outputs": [],
   "source": [
    "import os\n",
    "import numpy as np\n",
    "import healpy as hp\n",
    "from astropy.coordinates import SkyCoord\n",
    "from astropy.io import fits, ascii\n",
    "import astropy.units as u\n",
    "import matplotlib.pyplot as plt\n",
    "%matplotlib inline   \n",
    "# %matplotlib notebook"
   ]
  },
  {
   "cell_type": "code",
   "execution_count": 2,
   "id": "2e94e416",
   "metadata": {},
   "outputs": [],
   "source": [
    "# Import MAF\n",
    "import rubin_sim.maf as maf\n",
    "from rubin_sim.data import get_baseline"
   ]
  },
  {
   "cell_type": "markdown",
   "id": "8a2c3934-917f-482b-bf1c-4a1a9b33392d",
   "metadata": {},
   "source": [
    "### Methodology for Local Volume galaxies' dwarf satellites:\n",
    "We use the latest tables from the [Local Volume Galaxies Database](http://www.sao.ru/lv/lvgdb/]) (based on Karachentsev et al. 2013), limiting our selection to Dec < 35 deg. We calculate the stellar mass of all galaxies using their total K−band luminosities, assuming mass-to-light of 1.0 in K. We then limit the sample to galaxies with $M_{star} > 10^7 M_{Sun}$ (removing the faintest systems, which will not be expected to have significant dwarf satellite populations; e.g., Dooley et al. 2017b,a); this leaves a total of 302 galaxies between 1.3 < D < 9 Mpc (of which 139 are within 6 Mpc).\n",
    "\n",
    "The metric is evaluated at the positions of known galaxies by defining a custom `UserPointSlicer` object with the positions and distances to galaxies from the catalog described above. The function that creates this slicer is called `generateKnownLVDwarfSlicer`. (Note, however, that the metric can be calculated with a healpix map and a fixed distance limit; see below for more on this method.)\n",
    "\n",
    "To estimate the detectability of dwarf satellites, we begin by considering the unresolved background galaxies and foreground Milky Way stars that contaminate a CMD selection of candidate RGB stars. For each of the galaxies in our sample, we extract the expected number of galaxies per square arcmin using the **GalaxyCountsMetric**, and the expected stellar density from the **StarDensityMetric**. We apply a scaling factor (`cmd_frac`=0.1 by default) to account for the sub-region of the CMD inhabited by our tracers (RGB stars) relative to the full-CMD area spanned by the simulations, and an additional scaling factor to account for unresolved galaxy contamination (`stargal_contamination`=0.4 by default) in a stellar sample selection at the faint end. Then, with an estimated number of contaminants, we calculate the number of stars required to be detected to reach a given Poisson-limited signal-to-noise (S/N > 10 by default). For the region around each Local Volume galaxy, we use a function called `makeFakeLF` which reads in a [PARSEC](http://stev.oapd.inaf.it/cgi-bin/cmd) luminosity function for an old (10 Gyr), metal-poor (\\[M/H\\] = −1.5) population and generates fake dwarf galaxies using a simulated luminosity function (in g and i bands). We generate dwarfs with known luminosities, continuing to fainter luminosities until we reach the S/N threshold. Our final figure of merit (FoM) is the number of Local Volume galaxies for which the faintest detectable dwarf satellite galaxy is fainter than our chosen dwarf luminosity threshold ($M_V = −7$)."
   ]
  },
  {
   "cell_type": "code",
   "execution_count": 3,
   "id": "a5560945",
   "metadata": {},
   "outputs": [
    {
     "name": "stdout",
     "output_type": "stream",
     "text": [
      "/sims_maf/rubin_sim_data/sim_baseline/baseline_v2.0_10yrs.db\n",
      "baseline_v2.0_10yrs\n"
     ]
    }
   ],
   "source": [
    "opsim_fname = get_baseline()\n",
    "print(opsim_fname)\n",
    "\n",
    "runName = os.path.split(opsim_fname)[-1].replace('.db', '')\n",
    "print(runName)"
   ]
  },
  {
   "cell_type": "code",
   "execution_count": 4,
   "id": "e399aa55",
   "metadata": {},
   "outputs": [],
   "source": [
    "# Connect to the database so we can use it with MAF.\n",
    "opsim_db = maf.OpsimDatabase(opsim_fname)"
   ]
  },
  {
   "cell_type": "code",
   "execution_count": 5,
   "id": "9ac13b13-f64d-4bd7-a326-9329d4b9f448",
   "metadata": {},
   "outputs": [],
   "source": [
    "### To be deleted once code is in mafContrib\n",
    "\n",
    "def generateKnownLVDwarfSlicer():\n",
    "    \"\"\"Generate a population of KNe events, and put the info about them\n",
    "    into a UserPointSlicer object\n",
    "    \"\"\"\n",
    "\n",
    "    # path = '/dlusers/jcarlin/rubin_sim_data/maf/LVDwarfs_data/'\n",
    "    path = '/dlusers/jcarlin/sims_maf/SMWLV-metrics/notebooks/'\n",
    "    lv_dat0 = fits.getdata(path+'lsst_galaxies_1p25to9Mpc_table.fits')\n",
    "\n",
    "    # Keep only galaxies at dec < 35 deg., and with stellar masses > 10^7 M_Sun (and <1e14).\n",
    "    lv_dat_cuts = (lv_dat0['dec'] < 35.0) & (lv_dat0['MStars'] > 1e7) & (lv_dat0['MStars'] < 1e14)\n",
    "    lv_dat = lv_dat0[lv_dat_cuts]\n",
    "\n",
    "    # Set up the slicer to evaluate the catalog we just made\n",
    "    slicer = maf.UserPointsSlicer(lv_dat['ra'], lv_dat['dec'], latLonDeg=True, badval=-666)\n",
    "    # Add any additional information about each object to the slicer\n",
    "    slicer.slicePoints[\"distance\"] = lv_dat['dist_Mpc']\n",
    "\n",
    "    return slicer"
   ]
  },
  {
   "cell_type": "markdown",
   "id": "063ea6b8",
   "metadata": {},
   "source": [
    "Create dicts of simulated luminosity functions so we don't have to create one every time."
   ]
  },
  {
   "cell_type": "code",
   "execution_count": 37,
   "id": "95abea17-ca35-4639-9cb8-517335cca426",
   "metadata": {},
   "outputs": [],
   "source": [
    "# lf_dict_g, lf_dict_i = maf.mafContrib.make_LF_dicts()\n",
    "lf_dict_g, lf_dict_i = make_LF_dicts()"
   ]
  },
  {
   "cell_type": "code",
   "execution_count": 38,
   "id": "d182c51b",
   "metadata": {},
   "outputs": [
    {
     "name": "stderr",
     "output_type": "stream",
     "text": [
      "/data0/sw/lsst_stack-2021.10.13/rubin_sim/rubin_sim/maf/metrics/baseMetric.py:36: UserWarning: Redefining metric __main__.LVDwarfsMetric! (there are >1 metrics with the same name)\n",
      "  warnings.warn('Redefining metric %s! (there are >1 metrics with the same name)' % (metricname))\n"
     ]
    }
   ],
   "source": [
    "### To be deleted once code is in mafContrib\n",
    "\n",
    "class LVDwarfsMetric(maf.BaseMetric):\n",
    "    \"\"\"Documentation please. Numpy style docstrings. \n",
    "    \n",
    "    This example metric just finds the time of first observation of a particular part of the sky.\n",
    "    \n",
    "    Parameters\n",
    "    ----------\n",
    "    specificColumns : `str`, opt\n",
    "        It's nice to be flexible about what the relevant columns are called, so specify them here.\n",
    "        seeingCol = FWHMeff, etc. \n",
    "    kwargs : `float`, ? \n",
    "        Probably there are other things you need to set?\n",
    "    \"\"\"\n",
    "    # def __init__(self, nside=16, cmd_frac=0.1, stargal_contamination=0.40, nsigma=10.0, **kwargs):\n",
    "    def __init__(self, radius=2.45, distlim=None, cmd_frac=0.1, stargal_contamination=0.40, nsigma=10.0, **kwargs):\n",
    "        # maps = [\"CoaddM5\"]\n",
    "        # self.mjdCol = mjdCol\n",
    "        # self.nside = nside\n",
    "        self.radius = radius\n",
    "        self.filterCol = \"filter\"\n",
    "        self.m5Col = \"fiveSigmaDepth\"\n",
    "        self.cmd_frac = cmd_frac\n",
    "        self.stargal_contamination = stargal_contamination\n",
    "        self.nsigma = nsigma\n",
    "\n",
    "        if distlim is not None:\n",
    "            self.distlim = distlim\n",
    "        else:\n",
    "            self.distlim = None\n",
    "            # path = '/dlusers/jcarlin/rubin_sim_data/maf/LVDwarfs_data/'\n",
    "            path = '/dlusers/jcarlin/sims_maf/SMWLV-metrics/notebooks/'\n",
    "            lv_dat0 = fits.getdata(path+'lsst_galaxies_1p25to9Mpc_table.fits')\n",
    "            # Keep only galaxies at dec < 35 deg., and with stellar masses > 10^7 M_Sun.\n",
    "            lv_dat_cuts = (lv_dat0['dec'] < 35.0) & (lv_dat0['MStars'] > 1e7) & (lv_dat0['MStars'] < 1e14)\n",
    "            lv_dat = lv_dat0[lv_dat_cuts]\n",
    "            sc_dat = SkyCoord(ra=lv_dat['ra']*u.deg, dec=lv_dat['dec']*u.deg, distance=lv_dat['dist_Mpc']*u.Mpc)\n",
    "            self.sc_dat = sc_dat\n",
    "        \n",
    "        self.Coaddm5Metric = maf.simpleMetrics.Coaddm5Metric(m5Col=self.m5Col)\n",
    "        self.StarDensityMetric24 = maf.starDensity.StarDensityMetric(rmagLimit=24)\n",
    "        self.StarDensityMetric24p5 = maf.starDensity.StarDensityMetric(rmagLimit=24.5)\n",
    "        self.StarDensityMetric25 = maf.starDensity.StarDensityMetric(rmagLimit=25)\n",
    "        self.StarDensityMetric25p5 = maf.starDensity.StarDensityMetric(rmagLimit=25.5)\n",
    "        self.StarDensityMetric26 = maf.starDensity.StarDensityMetric(rmagLimit=26)\n",
    "        self.StarDensityMetric26p5 = maf.starDensity.StarDensityMetric(rmagLimit=26.5)\n",
    "        self.StarDensityMetric27 = maf.starDensity.StarDensityMetric(rmagLimit=27)\n",
    "        self.GalaxyCountsMetric = maf.mafContrib.LSSObsStrategy.galaxyCountsMetric_extended.GalaxyCountsMetric_extended(m5Col=self.m5Col)\n",
    "        # self.GalaxyCountsMetric = maf.mafContrib.LSSObsStrategy.galaxyCountsMetric_extended.GalaxyCountsMetric_extended(m5Col=self.m5Col, nside=self.nside)\n",
    "        cols = [self.m5Col, self.filterCol] # Add any columns that your metric needs to run -- mjdCol is just an example\n",
    "        maps = ['DustMap', 'StellarDensityMap']\n",
    "        super().__init__(col=cols, maps=maps, units='#', **kwargs)\n",
    "        \n",
    "    def run(self, dataSlice, slicePoint=None):\n",
    "        # This is where you write what your metric does. \n",
    "        # dataSlice == the numpy recarray containing the pointing information, \n",
    "        # with the columns that you said you needed in 'cols'\n",
    "        # slicePoint == the information about where you're evaluating this on the sky -- ra/dec,\n",
    "        # and if you specified that you need a dustmap or stellar density map, etc., those values will also \n",
    "        # be defined here\n",
    "        \n",
    "        # here's a super simple example .. replace with your own code to calculate your metric values\n",
    "        # tMin = dataSlice[self.mjdCol].min()\n",
    "        rband = (dataSlice[self.filterCol] == 'r')\n",
    "        gband = (dataSlice[self.filterCol] == 'g')\n",
    "        iband = (dataSlice[self.filterCol] == 'i')\n",
    "        r5 = self.Coaddm5Metric.run(dataSlice[rband])\n",
    "        g5 = self.Coaddm5Metric.run(dataSlice[gband])\n",
    "        i5 = self.Coaddm5Metric.run(dataSlice[iband])\n",
    "        nstar24 = self.StarDensityMetric24.run(dataSlice, slicePoint)\n",
    "        nstar24p5 = self.StarDensityMetric24p5.run(dataSlice, slicePoint)\n",
    "        nstar25 = self.StarDensityMetric25.run(dataSlice, slicePoint)\n",
    "        nstar25p5 = self.StarDensityMetric25p5.run(dataSlice, slicePoint)\n",
    "        nstar26 = self.StarDensityMetric26.run(dataSlice, slicePoint)\n",
    "        nstar26p5 = self.StarDensityMetric26p5.run(dataSlice, slicePoint)\n",
    "        nstar27 = self.StarDensityMetric27.run(dataSlice, slicePoint)\n",
    "        nstar = nstar27\n",
    "\n",
    "        # import pdb; pdb.set_trace()\n",
    "       \n",
    "        if 'nside' in slicePoint.keys():\n",
    "            nside = slicePoint['nside']\n",
    "            try:\n",
    "                ngal = self.GalaxyCountsMetric.run(dataSlice, slicePoint, nside=nside)\n",
    "            except:\n",
    "                ngal = 1e1\n",
    "                # print('healpix ',slicePoint['sid'], 'failed in GalaxyCountsMetric')\n",
    "        else:\n",
    "            ngal = self.GalaxyCountsMetric.run(dataSlice, slicePoint)\n",
    "\n",
    "            \n",
    "        # print(dataSlice)\n",
    "        nstar_all = nstar*0.0\n",
    "        rbinvals = np.arange(24.0, 27.5, 0.5)\n",
    "        rbinlimits = [nstar24, nstar24p5, nstar25, nstar25p5, nstar26, nstar26p5, nstar27]\n",
    "\n",
    "        # Star density is number of stars per square arcsec.\n",
    "        # Convert to a total number per healpix, then number per sq. arcmin:\n",
    "        # First, get the slicer pixel area.\n",
    "        # import pdb; pdb.set_trace()\n",
    "      \n",
    "        nstar0 = rbinlimits[np.argmin(np.abs(rbinvals-r5))]\n",
    "        \n",
    "        if 'nside' in slicePoint.keys():\n",
    "            nside = slicePoint['nside']\n",
    "            # Calculate the factor to go from number per healpix to number per square arcminute or per square arcsec\n",
    "            area_deg = hp.nside2pixarea(nside, degrees=True)*(u.degree**2)\n",
    "            area_arcmin = area_deg.to(u.arcmin**2)\n",
    "            area_arcsec = area_deg.to(u.arcsec**2)\n",
    "        else:\n",
    "            area_arcsec = np.pi*((self.radius*u.deg).to(u.arcsec)**2)\n",
    "            area_arcmin = np.pi*((self.radius*u.deg).to(u.arcmin)**2)\n",
    "\n",
    "        nstar_all = nstar0*area_arcsec.value\n",
    "\n",
    "        ngal_per_arcmin = ngal/area_arcmin.value\n",
    "        nstar_all_per_arcmin = nstar_all/area_arcmin.value\n",
    "        # print(ngal, nstar_all, r5, nstar_all_per_arcmin, ngal_per_arcmin)\n",
    "\n",
    "        nstars_required = self.nsigma*np.sqrt(ngal_per_arcmin*(self.cmd_frac*self.stargal_contamination)+(nstar_all_per_arcmin*self.cmd_frac))\n",
    "        \n",
    "        # Add a check so that if healpix slicer is used, distlim is also ***required***\n",
    "        if self.distlim is not None:\n",
    "            distlim = self.distlim\n",
    "        else:\n",
    "            distlim = slicePoint['distance']*u.Mpc\n",
    "            # sc_slice = SkyCoord(ra=slicePoint['ra']*u.rad, dec=slicePoint['dec']*u.rad)\n",
    "            # seps = sc_slice.separation(self.sc_dat)\n",
    "            # distlim = self.sc_dat[seps.argmin()].distance\n",
    "\n",
    "        mg_lim, mi_lim, sb_g_lim, sb_i_lim, flag_lim = sblimit(g5, i5, nstars_required, distlim=distlim.value)\n",
    "\n",
    "        # Use the conversion from Appendix A of Komiyama+2018, ApJ, 853, 29:\n",
    "        # V = g_hsc - 0.371*(gi_hsc)-0.068\n",
    "        mv = mg_lim - 0.371 * (mg_lim - mi_lim) - 0.068\n",
    "        # sbv = sb_g_lim - 0.371 * (sb_g_lim - sb_i_lim) - 0.068\n",
    "\n",
    "        # If the distance limit is outside the reachable range, set mv to \"badval\"\n",
    "        if (np.abs(mv) > 20) or np.isnan(mv):\n",
    "            mv = self.badval\n",
    "        # import pdb; pdb.set_trace()\n",
    "\n",
    "        return mv\n",
    "# When you re-run this cell, you may get a warning that the metric name already exists - that's ok! "
   ]
  },
  {
   "cell_type": "markdown",
   "id": "e0e45fb8",
   "metadata": {},
   "source": [
    "## Set up and run metric 1: number of host galaxies meeting required depth"
   ]
  },
  {
   "cell_type": "code",
   "execution_count": 14,
   "id": "2c1da010-6d83-4746-adba-f4468ae004cd",
   "metadata": {},
   "outputs": [],
   "source": [
    "# Create a slicer based on known galaxies within 9 Mpc, with stellar mass > 10^7 M_Sun:\n",
    "\n",
    "# lv_slicer = maf.mafContrib.generateKnownLVDwarfSlicer()\n",
    "lv_slicer = generateKnownLVDwarfSlicer()"
   ]
  },
  {
   "cell_type": "code",
   "execution_count": 15,
   "id": "ae9db759",
   "metadata": {},
   "outputs": [],
   "source": [
    "# Set up the metric\n",
    "# mymetric = maf.mafContrib.LVDwarfsMetric() # for the discrete LV galaxies\n",
    "# mymetric = maf.mafContrib.LVDwarfsMetric(distlim=0.05*u.Mpc) # for a distance limit, healpix map\n",
    "\n",
    "mymetric = LVDwarfsMetric() # for the discrete LV galaxies"
   ]
  },
  {
   "cell_type": "code",
   "execution_count": 16,
   "id": "e062b1bd",
   "metadata": {},
   "outputs": [],
   "source": [
    "# Define a sqlconstraint, if we need to just use a (large) subset of the opsim visits\n",
    "# sqlconstraint = 'filter = \"r\"'\n",
    "sqlconstraint = '(filter = \"r\" OR filter = \"i\" OR filter = \"g\")'\n",
    "# sqlconstraint = None   # no constraint, make all visits available"
   ]
  },
  {
   "cell_type": "code",
   "execution_count": 17,
   "id": "8ef04ac8",
   "metadata": {},
   "outputs": [],
   "source": [
    "# We already defined the slicer - combine the metric, slicer and sqlconstraint in a MetricBundle:\n",
    "bundle = maf.MetricBundle(mymetric, lv_slicer, sqlconstraint, runName=runName)"
   ]
  },
  {
   "cell_type": "code",
   "execution_count": 18,
   "id": "727fb067-995f-4c13-aec7-9dbf70365f44",
   "metadata": {
    "tags": []
   },
   "outputs": [
    {
     "name": "stdout",
     "output_type": "stream",
     "text": [
      "Querying database observations with constraint (filter = \"r\" OR filter = \"i\" OR filter = \"g\") for columns ['fiveSigmaDepth', 'filter', 'rotSkyPos', 'fieldRA', 'fieldDec']\n",
      "Found 1156352 visits\n",
      "Running:  ['LVDwarfs_metric']\n"
     ]
    },
    {
     "name": "stderr",
     "output_type": "stream",
     "text": [
      "/data0/sw/lsst_stack-2021.10.13/rubin_sim/rubin_sim/maf/metrics/simpleMetrics.py:42: RuntimeWarning: divide by zero encountered in log10\n",
      "  return 1.25 * np.log10(np.sum(10.**(.8*dataSlice[self.colname])))\n"
     ]
    },
    {
     "name": "stdout",
     "output_type": "stream",
     "text": [
      "Completed metric generation.\n",
      "Running reduce methods.\n",
      "Running summary statistics.\n",
      "Completed.\n"
     ]
    }
   ],
   "source": [
    "# Pass the bundle (along with any other bundles to be run on this opsim) to a MetricBundleGroup in order to\n",
    "# calculate the metric bundle values.\n",
    "g = maf.MetricBundleGroup({'LVDwarfs_metric': bundle}, opsim_db, outDir='test', resultsDb=None)\n",
    "# And calculate the metric\n",
    "g.runAll()"
   ]
  },
  {
   "cell_type": "markdown",
   "id": "876045a6",
   "metadata": {},
   "source": [
    "### Calculate the metric\n",
    "\n",
    "The Local Volume dwarf satellites metric is simply the number of hosts to which we meet a given dwarf detection threshold. We choose a threshold of $M_V < -6.0$, and report the total number (out of 302 input galaxies) that reach this threshold."
   ]
  },
  {
   "cell_type": "code",
   "execution_count": 19,
   "id": "a5029c89-f6e2-4b4e-a08e-bb9d71f06335",
   "metadata": {},
   "outputs": [
    {
     "name": "stdout",
     "output_type": "stream",
     "text": [
      "Number (out of 302) of galaxies surveyed to the requested depth:  90\n"
     ]
    }
   ],
   "source": [
    "mv_threshold = -6.0\n",
    "ok_mv = (bundle.metricValues.data > mv_threshold) & (bundle.metricValues.mask == False)\n",
    "print('Number (out of 302) of galaxies surveyed to the requested depth: ', np.sum(ok_mv))"
   ]
  },
  {
   "cell_type": "code",
   "execution_count": 20,
   "id": "bea608a9-fdd0-4ada-a894-442ec5df0cd9",
   "metadata": {},
   "outputs": [
    {
     "data": {
      "image/png": "[encoded data removed]",
      "text/plain": [
       "<Figure size 648x504 with 1 Axes>"
      ]
     },
     "metadata": {},
     "output_type": "display_data"
    }
   ],
   "source": [
    "params = {\n",
    "   'axes.labelsize': 32,\n",
    "   'font.size': 24,\n",
    "   'legend.fontsize': 20,\n",
    "#   'xtick.labelsize': 16,\n",
    "   'xtick.major.width': 3,\n",
    "   'xtick.minor.width': 2,\n",
    "   'xtick.major.size': 8,\n",
    "   'xtick.minor.size': 5,\n",
    "   'xtick.direction': 'in',\n",
    "   'xtick.top': True,\n",
    "   'lines.linewidth':3,\n",
    "   'axes.linewidth':3,\n",
    "   'axes.labelweight':3,\n",
    "   'axes.titleweight':3,\n",
    "   'ytick.major.width':3,\n",
    "   'ytick.minor.width':2,\n",
    "   'ytick.major.size': 8,\n",
    "   'ytick.minor.size': 5,\n",
    "   'ytick.direction': 'in',\n",
    "   'ytick.right': True,\n",
    "#   'ytick.labelsize': 20,\n",
    "   'text.usetex': True,\n",
    "   'text.latex.preamble': r'\\boldmath',\n",
    "   'figure.figsize': [9, 7],\n",
    "   'figure.facecolor': 'White'\n",
    "    }\n",
    "\n",
    "plt.rcParams.update(params)\n",
    "\n",
    "plt.hist(bundle.metricValues.data, bins=np.arange(-8, 4, 0.2), log=True, histtype='step', color='Gray', label='masked',\n",
    "         linewidth=3, linestyle='--')\n",
    "plt.hist(bundle.metricValues.data[bundle.metricValues.mask == False], bins=np.arange(-8, 4, 0.2), log=True, histtype='step',\n",
    "         color='Blue', label='OK limit', linewidth=3)\n",
    "plt.vlines(-6.0, 0, 200, color='magenta', linestyle=':', linewidth=3)\n",
    "plt.arrow(-5.9, 60.0, 2, 0, color='magenta', width=1, length_includes_head=True, head_width=5, head_length=0.3)\n",
    "plt.text(-5.9, 45, str(np.sum(ok_mv))+' fainter than -6', color='magenta', fontsize='small')\n",
    "plt.ylim(0.7, 83)\n",
    "plt.xlim(-8.4, 1.3)\n",
    "plt.legend()\n",
    "plt.xlabel(r'$M_{\\rm V, limit}$')\n",
    "plt.ylabel('N')\n",
    "plt.minorticks_on()\n",
    "plt.show()"
   ]
  },
  {
   "cell_type": "markdown",
   "id": "caba38b2-df17-4211-9da0-957defd1276f",
   "metadata": {},
   "source": [
    "### Metric 2: total sky area within 4 Mpc that meets the required depth\n",
    "\n",
    "The second Local Volume dwarf satellites metric is total sky area at which the survey meets a given dwarf detection threshold at some distance. We choose a threshold of $M_V < -5.0$, and report the total number (out of 302 input galaxies) that reach this threshold."
   ]
  },
  {
   "cell_type": "code",
   "execution_count": 25,
   "id": "9b4f87c9-e42a-442a-9f69-279dfccd508f",
   "metadata": {},
   "outputs": [
    {
     "name": "stdout",
     "output_type": "stream",
     "text": [
      "Healpix slicer using NSIDE=16, approximate resolution 219.871130 arcminutes\n"
     ]
    }
   ],
   "source": [
    "mymetric2 = LVDwarfsMetric(distlim=4.0*u.Mpc) # for a distance limit, healpix map\n",
    "healpix_slicer = maf.HealpixSlicer(nside=16)\n",
    "bundle2 = maf.MetricBundle(mymetric2, healpix_slicer, sqlconstraint, runName=runName)"
   ]
  },
  {
   "cell_type": "code",
   "execution_count": 26,
   "id": "43904ffb-0fa3-4246-8c18-db8c812ada2e",
   "metadata": {},
   "outputs": [
    {
     "name": "stdout",
     "output_type": "stream",
     "text": [
      "Querying database observations with constraint (filter = \"r\" OR filter = \"i\" OR filter = \"g\") for columns ['fiveSigmaDepth', 'filter', 'rotSkyPos', 'fieldRA', 'fieldDec']\n",
      "Found 1156352 visits\n",
      "Running:  ['LVDwarfs_area_metric']\n"
     ]
    },
    {
     "name": "stderr",
     "output_type": "stream",
     "text": [
      "/data0/sw/lsst_stack-2021.10.13/rubin_sim/rubin_sim/maf/slicers/baseSpatialSlicer.py:103: UserWarning: Warning:  Loading maps but cache on.Should probably set useCache=False in slicer.\n",
      "  warnings.warn('Warning:  Loading maps but cache on.'\n",
      "/data0/sw/lsst_stack-2021.10.13/rubin_sim/rubin_sim/maf/maps/dustMap.py:25: UserWarning: Slicer value of nside 16 different from map value 128, using slicer value\n",
      "  warnings.warn(f\"Slicer value of nside {slicePoints['nside']} different \"\n",
      "/data0/sw/lsst_stack-2021.10.13/rubin_sim/rubin_sim/maf/metrics/simpleMetrics.py:42: RuntimeWarning: divide by zero encountered in log10\n",
      "  return 1.25 * np.log10(np.sum(10.**(.8*dataSlice[self.colname])))\n",
      "<ipython-input-9-6ed3d97ed285>:11: RuntimeWarning: divide by zero encountered in log10\n",
      "  mtot = magref-2.5*np.log10(totlum)\n",
      "<ipython-input-13-ff9778eb76ff>:136: RuntimeWarning: invalid value encountered in double_scalars\n",
      "  mv = mg_lim - 0.371 * (mg_lim - mi_lim) - 0.068\n"
     ]
    },
    {
     "name": "stdout",
     "output_type": "stream",
     "text": [
      "Completed metric generation.\n",
      "Running reduce methods.\n",
      "Running summary statistics.\n",
      "Completed.\n"
     ]
    }
   ],
   "source": [
    "g2 = maf.MetricBundleGroup({'LVDwarfs_area_metric': bundle2}, opsim_db, outDir='test', resultsDb=None)\n",
    "g2.runAll()"
   ]
  },
  {
   "cell_type": "code",
   "execution_count": 27,
   "id": "c326b6ba-59ab-4ec0-8fa0-906f850a330a",
   "metadata": {},
   "outputs": [
    {
     "data": {
      "image/png": "[encoded data removed]",
      "text/plain": [
       "<Figure size 648x504 with 1 Axes>"
      ]
     },
     "metadata": {},
     "output_type": "display_data"
    }
   ],
   "source": [
    "plt.hist(bundle2.metricValues.data, bins=np.arange(-8, 4, 0.2), log=True, histtype='step', color='Gray', label='masked',\n",
    "         linewidth=3, linestyle='--')\n",
    "plt.hist(bundle2.metricValues.data[bundle2.metricValues.mask == False], bins=np.arange(-8, 4, 0.2), log=True, histtype='step',\n",
    "         color='Blue', label='OK limit', linewidth=3)\n",
    "plt.vlines(-6.0, 0, 1000, color='magenta', linestyle=':', linewidth=3)\n",
    "plt.ylim(0.7, 830)\n",
    "#plt.xlim(-9.3, 1.8)\n",
    "plt.legend()\n",
    "plt.xlabel(r'$M_{\\rm V, limit}$')\n",
    "plt.ylabel('N')\n",
    "plt.minorticks_on()\n",
    "plt.show()"
   ]
  },
  {
   "cell_type": "code",
   "execution_count": 28,
   "id": "916a6be0-c871-4480-82d0-8929117c7dd9",
   "metadata": {},
   "outputs": [
    {
     "data": {
      "text/plain": [
       "{'AreaThreshold': 21526.203412376006}"
      ]
     },
     "execution_count": 28,
     "metadata": {},
     "output_type": "execute_result"
    }
   ],
   "source": [
    "summary_area = maf.AreaThresholdMetric(lower_threshold=-6.0)\n",
    "bundle2.setSummaryMetrics([summary_area])\n",
    "bundle2.computeSummaryStats()\n",
    "bundle2.summaryValues"
   ]
  },
  {
   "cell_type": "code",
   "execution_count": 55,
   "id": "6ee48e94-237e-4235-98ef-9d8c8c82a252",
   "metadata": {},
   "outputs": [],
   "source": [
    "# bundle2.plot()"
   ]
  },
  {
   "cell_type": "code",
   "execution_count": null,
   "id": "e1ebe8fe-8057-41d9-8102-132e6e243dbf",
   "metadata": {},
   "outputs": [],
   "source": []
  },
  {
   "cell_type": "markdown",
   "id": "7cc0fb45-ad8a-46b3-ac6a-12d6806cf575",
   "metadata": {},
   "source": [
    "### Metric 3: detection limits for Milky Way dwarfs in the south Galactic cap"
   ]
  },
  {
   "cell_type": "code",
   "execution_count": 39,
   "id": "48501edb-8317-48e8-9880-37999e876b85",
   "metadata": {},
   "outputs": [],
   "source": [
    "sql_scp = '(filter = \"r\" OR filter = \"i\" OR filter = \"g\") and fieldDec < -60'"
   ]
  },
  {
   "cell_type": "code",
   "execution_count": 56,
   "id": "0ce5ded4-17f8-43b3-bcd6-86e841b5df8f",
   "metadata": {},
   "outputs": [
    {
     "name": "stdout",
     "output_type": "stream",
     "text": [
      "Healpix slicer using NSIDE=32, approximate resolution 109.935565 arcminutes\n"
     ]
    }
   ],
   "source": [
    "mymetric3 = LVDwarfsMetric(distlim=0.1*u.Mpc) # for a distance limit, healpix map\n",
    "healpix_slicer3 = maf.HealpixSlicer(nside=32)\n",
    "bundle3 = maf.MetricBundle(mymetric3, healpix_slicer3, sql_scp, runName=runName)"
   ]
  },
  {
   "cell_type": "code",
   "execution_count": 57,
   "id": "8dfc33a9-1899-49d6-91a0-b7346ce8203c",
   "metadata": {},
   "outputs": [
    {
     "name": "stdout",
     "output_type": "stream",
     "text": [
      "Querying database observations with constraint (filter = \"r\" OR filter = \"i\" OR filter = \"g\") and fieldDec < -60 for columns ['fiveSigmaDepth', 'filter', 'rotSkyPos', 'fieldRA', 'fieldDec']\n",
      "Found 85778 visits\n",
      "Running:  ['LVDwarfs_SCP_metric']\n"
     ]
    },
    {
     "name": "stderr",
     "output_type": "stream",
     "text": [
      "/data0/sw/lsst_stack-2021.10.13/rubin_sim/rubin_sim/maf/slicers/baseSpatialSlicer.py:103: UserWarning: Warning:  Loading maps but cache on.Should probably set useCache=False in slicer.\n",
      "  warnings.warn('Warning:  Loading maps but cache on.'\n",
      "/data0/sw/lsst_stack-2021.10.13/rubin_sim/rubin_sim/maf/maps/dustMap.py:25: UserWarning: Slicer value of nside 32 different from map value 128, using slicer value\n",
      "  warnings.warn(f\"Slicer value of nside {slicePoints['nside']} different \"\n"
     ]
    },
    {
     "name": "stdout",
     "output_type": "stream",
     "text": [
      "Completed metric generation.\n",
      "Running reduce methods.\n",
      "Running summary statistics.\n",
      "Completed.\n"
     ]
    }
   ],
   "source": [
    "g3 = maf.MetricBundleGroup({'LVDwarfs_SCP_metric': bundle3}, opsim_db, outDir='test', resultsDb=None)\n",
    "g3.runAll()"
   ]
  },
  {
   "cell_type": "code",
   "execution_count": 58,
   "id": "ca6435b5-2d2c-4433-a53a-6c24f5ed58bb",
   "metadata": {},
   "outputs": [
    {
     "data": {
      "image/png": "[encoded data removed]",
      "text/plain": [
       "<Figure size 648x504 with 1 Axes>"
      ]
     },
     "metadata": {},
     "output_type": "display_data"
    }
   ],
   "source": [
    "plt.hist(bundle3.metricValues.data, bins=np.arange(-8, 4, 0.2), log=True, histtype='step', color='Gray', label='masked',\n",
    "         linewidth=3, linestyle='--')\n",
    "plt.hist(bundle3.metricValues.data[bundle3.metricValues.mask == False], bins=np.arange(-8, 4, 0.2), log=True, histtype='step',\n",
    "         color='Blue', label='OK limit', linewidth=3)\n",
    "# plt.ylim(0.7, 830)\n",
    "plt.xlim(-5.3, 5.3)\n",
    "plt.legend()\n",
    "plt.xlabel(r'$M_{\\rm V, limit}$')\n",
    "plt.ylabel('N')\n",
    "plt.minorticks_on()\n",
    "plt.show()"
   ]
  },
  {
   "cell_type": "code",
   "execution_count": 59,
   "id": "5f63f927-89fd-4399-adac-fff28ada50dc",
   "metadata": {},
   "outputs": [],
   "source": [
    "### Do we want to maximize the area below some limiting M_V, or maximize the median, limiting M_V, etc?"
   ]
  },
  {
   "cell_type": "code",
   "execution_count": 60,
   "id": "3f68e69d-6514-4407-a786-31c89d5ec22b",
   "metadata": {},
   "outputs": [
    {
     "data": {
      "text/plain": [
       "{'AreaThreshold': 2484.3091898250536, 'Median': 1.0865033546472218}"
      ]
     },
     "execution_count": 60,
     "metadata": {},
     "output_type": "execute_result"
    }
   ],
   "source": [
    "summary_area = maf.AreaThresholdMetric(lower_threshold=0.0)\n",
    "summary_median = maf.MedianMetric()\n",
    "bundle3.setSummaryMetrics([summary_area, summary_median])\n",
    "bundle3.computeSummaryStats()\n",
    "bundle3.summaryValues"
   ]
  },
  {
   "cell_type": "code",
   "execution_count": null,
   "id": "43e55080-96e0-45cc-a922-6dbaf7c19095",
   "metadata": {},
   "outputs": [],
   "source": []
  },
  {
   "cell_type": "code",
   "execution_count": null,
   "id": "6c59bad9-99cf-4283-a1eb-f84420b11542",
   "metadata": {},
   "outputs": [],
   "source": []
  },
  {
   "cell_type": "markdown",
   "id": "dbeb6291-b245-4404-bcac-9b123b3237f5",
   "metadata": {},
   "source": [
    "#### Functions that will eventually be in code rather than here"
   ]
  },
  {
   "cell_type": "code",
   "execution_count": 7,
   "id": "317f90a6-ece9-4ff4-aab8-a03b01aafe2e",
   "metadata": {},
   "outputs": [],
   "source": [
    "### To be deleted once code is in mafContrib\n",
    "\n",
    "def makeFakeLF(intB, mu, filtername):\n",
    "    if (filtername == 'y'):\n",
    "        filtername == 'Y'\n",
    "    modelBmag = 6.856379  # integrated B mag of the model LF being read\n",
    "    # path = '/dlusers/jcarlin/rubin_sim_data/maf/LVDwarfs_data/'\n",
    "    path = '/dlusers/jcarlin/sims_maf/SMWLV-metrics/notebooks/'\n",
    "    LF = ascii.read(path+'LF_-1.5_10Gyr.dat', header_start=12)\n",
    "    mags = LF['magbinc']\n",
    "    counts = LF[filtername+'mag']\n",
    "    # shift model LF to requested distance and dim it\n",
    "    mags = mags + mu\n",
    "    modelBmag = modelBmag + mu\n",
    "    # scale model counts up/down to reach the requested intB\n",
    "    factor = np.power(10.0, -0.4*(intB-modelBmag))\n",
    "    counts = factor * counts\n",
    "    return mags, counts"
   ]
  },
  {
   "cell_type": "code",
   "execution_count": 36,
   "id": "d5e5b124-d5f0-4ede-b923-28dfc9e38e14",
   "metadata": {},
   "outputs": [],
   "source": [
    "### To be deleted once code is in mafContrib\n",
    "\n",
    "def make_LF_dicts():\n",
    "    lf_dict_i = {}\n",
    "    lf_dict_g = {}\n",
    "    tmp_MB = -10.0\n",
    "\n",
    "    for i in range(151):\n",
    "        mbkey = f'MB{tmp_MB:.2f}'\n",
    "        iLFmags, iLFcounts = makeFakeLF(tmp_MB, 0.0, 'i')\n",
    "        lf_dict_i[mbkey] = (np.array(iLFmags), np.array(iLFcounts))\n",
    "        gLFmags, gLFcounts = makeFakeLF(tmp_MB, 0.0, 'g')\n",
    "        lf_dict_g[mbkey] = (np.array(gLFmags), np.array(gLFcounts))\n",
    "        tmp_MB += 0.1\n",
    "\n",
    "    return lf_dict_g, lf_dict_i"
   ]
  },
  {
   "cell_type": "code",
   "execution_count": 9,
   "id": "f87580e7-4b69-49a0-b453-ae22b8fb24d6",
   "metadata": {},
   "outputs": [],
   "source": [
    "### To be deleted once code is in mafContrib\n",
    "\n",
    "def sum_luminosity(LFmags, LFcounts):\n",
    "    magref = LFmags[0]\n",
    "    totlum = 0.0\n",
    "\n",
    "    for mag, count in zip(LFmags, LFcounts):\n",
    "        tmpmags = np.repeat(mag, count)\n",
    "        totlum += np.sum(10.0**((magref - tmpmags)/2.5))\n",
    "\n",
    "    mtot = magref-2.5*np.log10(totlum)\n",
    "    return mtot"
   ]
  },
  {
   "cell_type": "code",
   "execution_count": 11,
   "id": "b6066f0a-9e42-4522-991f-abab57253af1",
   "metadata": {},
   "outputs": [],
   "source": [
    "### To be deleted once code is in mafContrib\n",
    "\n",
    "def sblimit(glim, ilim, nstars, distlim):\n",
    "    distance_limit = distlim*1e6  # distance limit in parsecs\n",
    "    distmod_lim = 5.0*np.log10(distance_limit) - 5.0\n",
    "    \n",
    "    if (glim > 15) and (ilim > 15):\n",
    "        # print(glim, ilim, nstars)\n",
    "        fake_MB = -10.0\n",
    "        ng = 1e6\n",
    "        ni = 1e6\n",
    "\n",
    "        while (ng > nstars) and (ni > nstars) and fake_MB < 5.0:\n",
    "            # B_fake = distmod_limit+fake_MB\n",
    "            mbkey = f'MB{fake_MB:.2f}'\n",
    "            iLFmags0, iLFcounts0 = lf_dict_i[mbkey]\n",
    "            gLFmags0, gLFcounts0 = lf_dict_g[mbkey]\n",
    "            iLFcounts = np.random.poisson(iLFcounts0)\n",
    "            gLFcounts = np.random.poisson(gLFcounts0)\n",
    "            iLFmags = iLFmags0+distmod_lim  # Add the distance modulus to make it apparent mags\n",
    "            gLFmags = gLFmags0+distmod_lim  # Add the distance modulus to make it apparent mags\n",
    "            # print(iLFcounts0-iLFcounts)\n",
    "            gsel = (gLFmags <= glim)\n",
    "            isel = (iLFmags <= ilim)\n",
    "            ng = np.sum(gLFcounts[gsel])\n",
    "            ni = np.sum(iLFcounts[isel])\n",
    "            # print('fake_MB: ',fake_MB, ' ng: ',ng, ' ni: ', ni, ' nstars: ', nstars)\n",
    "            fake_MB += 0.1\n",
    "\n",
    "        if fake_MB > -9.9:\n",
    "            gmag_tot = sum_luminosity(gLFmags[gsel], gLFcounts[gsel]) - distmod_lim\n",
    "            imag_tot = sum_luminosity(iLFmags[isel], iLFcounts[isel]) - distmod_lim\n",
    "            # S = m + 2.5logA, where in this case things are in sq. arcmin, so A = 1 arcmin^2 = 3600 arcsec^2\n",
    "            sbtot_g = distmod_lim + gmag_tot + 2.5*np.log10(3600.0)\n",
    "            sbtot_i = distmod_lim + imag_tot + 2.5*np.log10(3600.0)\n",
    "            mg_lim = gmag_tot\n",
    "            mi_lim = imag_tot\n",
    "            sbg_lim = sbtot_g\n",
    "            sbi_lim = sbtot_i\n",
    "            if (ng < ni):\n",
    "                flag_lim = 'g'\n",
    "            else:\n",
    "                flag_lim = 'i'\n",
    "        else:\n",
    "            mg_lim= 999.9\n",
    "            mi_lim = 999.9\n",
    "            sbg_lim = 999.9\n",
    "            sbi_lim = 999.9\n",
    "            flag_lim = 'none'\n",
    "    else:\n",
    "        mg_lim = 999.9\n",
    "        mi_lim = 999.9\n",
    "        sbg_lim = -999.9\n",
    "        sbi_lim = -999.9\n",
    "        flag_lim = 'none'\n",
    "\n",
    "    return mg_lim, mi_lim, sbg_lim, sbi_lim, flag_lim"
   ]
  },
  {
   "cell_type": "code",
   "execution_count": null,
   "id": "0463df00-72f9-4c9c-9a40-004499cc7dd3",
   "metadata": {},
   "outputs": [],
   "source": []
  }
 ],
 "metadata": {
  "kernelspec": {
   "display_name": "LSST-2021.10.13 Py3",
   "language": "python",
   "name": "lsst_sims_maf-2021.10.13"
  },
  "language_info": {
   "codemirror_mode": {
    "name": "ipython",
    "version": 3
   },
   "file_extension": ".py",
   "mimetype": "text/x-python",
   "name": "python",
   "nbconvert_exporter": "python",
   "pygments_lexer": "ipython3",
   "version": "3.8.8"
  }
 },
 "nbformat": 4,
 "nbformat_minor": 5
}
