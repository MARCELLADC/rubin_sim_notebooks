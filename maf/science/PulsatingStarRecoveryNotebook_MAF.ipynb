{
 "cells": [
  {
   "cell_type": "code",
   "execution_count": 10,
   "id": "bc618f6e-216f-49ee-87b0-8dbd28546937",
   "metadata": {},
   "outputs": [],
   "source": [
    "# All modules that  are needed.\n",
    "import os\n",
    "import numpy as np\n",
    "import pandas as pd\n",
    "import matplotlib.pyplot as plt\n",
    "%matplotlib inline   \n",
    "\n",
    "import rubin_sim.maf as maf\n",
    "from rubin_sim.maf.maps import dustMap\n",
    "#from rubin_sim.photUtils import Dust_values\n",
    "#from rubin_sim.maf.metrics import crowdingMetric\n",
    "\n",
    "\n",
    "\n",
    "\n",
    "from PulsatingStarRecovery_MAF import PulsatingStarRecovery"
   ]
  },
  {
   "cell_type": "code",
   "execution_count": 11,
   "id": "9b8c9a08-5bac-4a58-8ef7-63e04a279e50",
   "metadata": {},
   "outputs": [
    {
     "name": "stdout",
     "output_type": "stream",
     "text": [
      "/sims_maf/rubin_sim_data/sim_baseline/baseline_v2.0_10yrs.db\n",
      "baseline_v2.0_10yrs\n"
     ]
    }
   ],
   "source": [
    "from rubin_sim.data import get_baseline\n",
    "\n",
    "opsim_fname = get_baseline()\n",
    "print(opsim_fname)\n",
    "\n",
    "runName = os.path.split(opsim_fname)[-1].replace('.db', '')\n",
    "print(runName)\n",
    "\n",
    "\n",
    "#or take a new Opsim from the path (new http://astro-lsst-01.astro.washington.edu:8080/allMetricResults?runId=1)\n",
    "#opsim_fname='/sims_maf/fbs_2.0/baseline/baseline_v2.0_10yrs.db'\n",
    "#runName='baseline_v2.0_10yrs.db'\n",
    "\n",
    "\n"
   ]
  },
  {
   "cell_type": "code",
   "execution_count": null,
   "id": "68f5e3c1-5524-4bf4-94a6-995028118f08",
   "metadata": {},
   "outputs": [],
   "source": []
  },
  {
   "cell_type": "code",
   "execution_count": 12,
   "id": "63c3ec9a-81b4-4b87-8ca6-c016c038731d",
   "metadata": {},
   "outputs": [],
   "source": [
    "# Connect to the database so we can use it with MAF.\n",
    "opsim_db = maf.OpsimDatabase(opsim_fname)\n",
    "#Finding available database columns with which to express constraints, slices, and metrics\n",
    "#opsim_db.get_column_names(\"observations\")\n"
   ]
  },
  {
   "cell_type": "code",
   "execution_count": 13,
   "id": "f20ec135-69ea-447f-942a-40e787c84700",
   "metadata": {},
   "outputs": [
    {
     "name": "stdout",
     "output_type": "stream",
     "text": [
      "{'sid': array([0, 1, 2, 3, 4, 5, 6, 7]), 'ra': array([0.58158734, 0.60766547, 0.65256406, 0.94117607, 2.00067092,\n",
      "       2.64876985, 5.59167131, 6.26835001]), 'dec': array([ 0.63143103,  0.35212502, -1.37341898, -0.94333592, -0.97913456,\n",
      "        0.28053744,  0.33365847, -1.04021623]), 'distance': array([0.03, 0.03, 0.03, 0.03, 0.03, 0.02, 0.02, 0.03])}\n"
     ]
    }
   ],
   "source": [
    "#From Jeff Carlin. This cell  builds a complex UserPointsSlicer\n",
    "from astropy.io import ascii, fits\n",
    "import healpy as hp\n",
    "from astropy.coordinates import SkyCoord\n",
    "import astropy.units as u\n",
    "\n",
    "\n",
    "#Make a list of pointing.\n",
    "#Read the Karachentsev+ catalog of nearby galaxies (new tale from Jeff d<9Mpc and dec < 45),\n",
    "lv_dat0 = fits.getdata(\"lsst_galaxies_D_lt_9Mpc_table.fits\")\n",
    "# Keep only galaxies at d < 0.3 Mpc. and with M_B < -6.5.\n",
    "lv_dat_cuts = (\n",
    "        (lv_dat0[\"dist_Mpc\"] < 0.035) & (lv_dat0[\"M_B\"] > -6.5))\n",
    "lv_dat = lv_dat0[lv_dat_cuts]\n",
    "\n",
    "# Set up the slicer to evaluate the catalog we just made\n",
    "slicer = maf.UserPointsSlicer(\n",
    "        lv_dat[\"ra\"], lv_dat[\"dec\"], latLonDeg=True, badval=-666\n",
    "    )\n",
    "    # Add any additional information about each object to the slicer\n",
    "slicer.slicePoints[\"distance\"] = lv_dat[\"dist_Mpc\"]\n",
    "\n",
    "maps = ['DustMap']\n",
    "print(slicer.slicePoints)\n",
    "#dmod = 5*np.log10(slicer.slicePoints[\"distance\"]*10**6)-5\n",
    "#print(dmod)"
   ]
  },
  {
   "cell_type": "code",
   "execution_count": 21,
   "id": "18c80dc6-4d55-421f-acb9-19af45a2f1d6",
   "metadata": {},
   "outputs": [],
   "source": [
    "# Alternatively specify ra / dec of the point we want to work with on the sky - in degrees. \n",
    "# (these can be lists, if you want to work on multiple, limited points on the sky)\n",
    "#test_ra =270.8839167 \n",
    "test_ra =0.58158734\n",
    "#test_dec =-30.0352667\n",
    "test_dec =0.63143103\n",
    "#dist_Mpc=0.01\n",
    "dist_Mpc=0.03\n",
    "#dmod=14.5\n",
    "\n",
    "\n",
    "slicer = maf.UserPointsSlicer(test_ra, test_dec)\n",
    "slicer.slicePoints[\"distance\"] = dist_Mpc\n",
    "\n",
    "maps = ['DustMap']\n",
    "\n"
   ]
  },
  {
   "cell_type": "code",
   "execution_count": 22,
   "id": "62e7d772-3ad9-4d2f-8c82-ccd9599a28a2",
   "metadata": {},
   "outputs": [],
   "source": [
    "#This cell  build DataFrame df that contains  the  list of blending stars with magnitudes . Can be empty if you don't wont to consider blending or if you are offline.\n",
    "#In that case comment from import to print\n",
    "\n",
    "dati=[]\n",
    "df=pd.DataFrame(dati,columns=[])\n",
    "\n",
    "#import dl.queryClient as qc\n",
    "#test_ra = test_ra\n",
    "#test_dec = test_dec\n",
    "#table = 'lsst_sim.simdr2'\n",
    "#radius = 0.0002\n",
    "#query = \"select ra,dec,umag,gmag, rmag, imag, zmag, ymag, mu0, gc, mass from {} where q3c_radial_query(ra, dec, {}, {}, {})\".format(table,test_ra,test_dec,radius)\n",
    "#df = qc.query(sql=query ,timeout=1000, fmt='pandas') \n",
    "#print(df)\n",
    "\n",
    " "
   ]
  },
  {
   "cell_type": "code",
   "execution_count": 23,
   "id": "22a00de7-4c7d-47b8-82be-b830db25bf46",
   "metadata": {},
   "outputs": [
    {
     "name": "stdout",
     "output_type": "stream",
     "text": [
      "./RRc.csv\n"
     ]
    }
   ],
   "source": [
    "#parameters that must be inserted to run the metric PulsatingStarRecovery.py.Possible filenames are (https://github.com/MARCELLADC/PulsatingStarRecovery):\n",
    "#filename='./RRab.csv'\n",
    "#filename='./RRc.csv'\n",
    "#filename='./CEF1.csv'\n",
    "#filename='./CEF2.csv'\n",
    "#filename='./LPV1.csv'\n",
    "#filename='./LPV2.csv'\n",
    "filename='./RRc.csv'   #ascii file with the template of pulsating star\n",
    "#dmod=14.5    #distance modulus----> ORA L?HO MMESSO DOVE SCEGLIAMO RA E DEC\n",
    "sigmaFORnoise=1   # sigma for the computation of the error on the magnitude\n",
    "do_remove_saturated=True    #Remove from temporal series saurated visits  \n",
    "factorForDimensionGap=0.5  #parameter used in LcSampling \n",
    "numberOfHarmonics=3         #parameter used in LcFitting--suggested value for a RRC\n",
    "\n",
    "\n",
    "\n",
    "\n",
    "\n",
    "mymetric = PulsatingStarRecovery(filename,sigmaFORnoise,do_remove_saturated,numberOfHarmonics,factorForDimensionGap,df)\n",
    "#if you are interested in other metrics\n",
    "#maf.BaseMetric.help(doc=True)"
   ]
  },
  {
   "cell_type": "code",
   "execution_count": 24,
   "id": "3a01b3b2-8e03-49a8-9a8b-3fa601477ff6",
   "metadata": {},
   "outputs": [],
   "source": [
    "# Define a sqlconstraint, if we need to just use a (large) subset of the opsim visits\n",
    "#sqlconstraint = None   # no constraint, make all visits available\n",
    "\n",
    "# Examples of other potentially useful sqlconstraints:\n",
    "# sqlconstraint = 'filter = \"r\"'  # just select the visits in a particular filter\n",
    "# sqlconstraint = 'note not like \"%DD%\"'  # don't choose any of the DD field visits\n",
    "# sqlconstraint = 'night < 700'  # only use visits in the first year of the survey\n",
    "sqlconstraint = 'night < 365'"
   ]
  },
  {
   "cell_type": "code",
   "execution_count": 25,
   "id": "06a392ce-b613-499c-9975-a6c6ade4f4ce",
   "metadata": {},
   "outputs": [],
   "source": [
    "bundle = maf.MetricBundle(mymetric, slicer, sqlconstraint,maps)"
   ]
  },
  {
   "cell_type": "code",
   "execution_count": 26,
   "id": "e48d27c2-6606-4d9e-aa1a-bc3c64d44080",
   "metadata": {},
   "outputs": [
    {
     "name": "stdout",
     "output_type": "stream",
     "text": [
      "Querying database observations with constraint night < 365 for columns ['skyBrightness', 'filter', 'fieldRA', 'seeingFwhmEff', 'fiveSigmaDepth', 'visitExposureTime', 'observationStartMJD', 'fieldDec', 'rotSkyPos', 'airmass', 'night', 'numExposures']\n",
      "Found 215980 visits\n",
      "Running:  ['PulsatingStarRecovery']\n",
      "0.03\n",
      "sto analizzandola galassia con\n",
      "0.02617397904396057\n",
      "17.385606273598313\n",
      "0.010150613970915719\n",
      "801 801\n",
      "Useful (at all S/N and NOT saturated)  Nvisits in ugrizy bands\n",
      "3 7 13 17 17 21\n",
      "Noise level (median vs mean)\n",
      "0.12481687042708553 0.150757034079487\n",
      "Finding optimal frequency:\n",
      " - Estimated peak width = 0.0178\n",
      " - Using 5 steps per peak; omega_step = 0.00355\n",
      " - User-specified period range:  0.038 to 0.73\n",
      " - Computing periods at 43719 steps\n",
      "Zooming-in on 5 candidate peaks:\n",
      " - Computing periods at 995 steps\n",
      "fitting...\n",
      "fitting r band\n",
      "fitting i band\n",
      "fitting z band\n",
      "fitting y band\n",
      "Completed metric generation.\n",
      "Running reduce methods.\n",
      "Running summary statistics.\n",
      "Completed.\n"
     ]
    }
   ],
   "source": [
    "# Pass the bundle (along with any other bundles to be run on this opsim) to a MetricBundleGroup in order to\n",
    "# calculate the metric bundle values.\n",
    "g = maf.MetricBundleGroup({'PulsatingStarRecovery': bundle}, opsim_db, outDir='./', resultsDb=None)\n",
    "# And calculate the metric\n",
    "#from rubin_sim.maf.metrics import crowdingMetric\n",
    "#import time\n",
    "#start_time = time.time()\n",
    "g.runAll()\n",
    "#print(\"--- %s seconds ---\" % (time.time() - start_time))"
   ]
  },
  {
   "cell_type": "code",
   "execution_count": 20,
   "id": "ab26e509-af8e-4916-a94a-9946b3f87548",
   "metadata": {},
   "outputs": [
    {
     "data": {
      "text/plain": [
       "{'n_u': 6,\n",
       " 'n_g': 17,\n",
       " 'n_r': 21,\n",
       " 'n_i': 20,\n",
       " 'n_z': 12,\n",
       " 'n_y': 7,\n",
       " 'maxGap_u': 0.317661869500526,\n",
       " 'maxGap_g': 0.2957611530875166,\n",
       " 'maxGap_r': 0.2802475344223865,\n",
       " 'maxGap_i': 0.2146419526160921,\n",
       " 'maxGap_z': 0.18515559347166288,\n",
       " 'maxGap_y': 0.568672583296177,\n",
       " 'numberGaps_u': 3,\n",
       " 'numberGaps_g': 3,\n",
       " 'numberGaps_r': 2,\n",
       " 'numberGaps_i': 2,\n",
       " 'numberGaps_z': 5,\n",
       " 'numberGaps_y': 1,\n",
       " 'uniformity_u': 0.9417709681491805,\n",
       " 'uniformity_g': 0.8952268978971986,\n",
       " 'uniformity_r': 999.0,\n",
       " 'uniformity_i': 0.9407960732542342,\n",
       " 'uniformity_z': 0.9489222901119487,\n",
       " 'uniformity_y': 0.7572204330343884,\n",
       " 'uniformityKS_u': 0.28837163011627825,\n",
       " 'uniformityKS_g': 0.17827100420292735,\n",
       " 'uniformityKS_r': 0.14655159569848375,\n",
       " 'uniformityKS_i': 0.14728807482228062,\n",
       " 'uniformityKS_z': 0.15223552446933775,\n",
       " 'uniformityKS_y': 0.24527568298783614,\n",
       " 'P_gatpsy': 0.38351231737975466,\n",
       " 'Delta_Period': -1.5715091342682896e-06,\n",
       " 'Delta_Period_abs': 0.00040976589891470263,\n",
       " 'Delta_Period_abs_cicli': 9.652363864092238e-09,\n",
       " 'deltamag_u': -inf,\n",
       " 'deltamag_g': -0.020741687196256464,\n",
       " 'deltamag_r': 0.021892061452362555,\n",
       " 'deltamag_i': 0.007942660456070172,\n",
       " 'deltamag_z': 0.0048667059573759275,\n",
       " 'deltamag_y': -inf,\n",
       " 'deltaamp_u': -9998.383285210666,\n",
       " 'deltaamp_g': 0.008595230872916915,\n",
       " 'deltaamp_r': -0.12442574273265805,\n",
       " 'deltaamp_i': -0.03308303487469644,\n",
       " 'deltaamp_z': 0.0018976536019152945,\n",
       " 'deltaamp_y': -9998.617451423259,\n",
       " 'chi_u': 9999.0,\n",
       " 'chi_g': 1.587303805267123e-06,\n",
       " 'chi_r': 2.463478008627828e-05,\n",
       " 'chi_i': 1.805351579094756e-05,\n",
       " 'chi_z': 5.770902489623217e-07,\n",
       " 'chi_y': 9999.0}"
      ]
     },
     "execution_count": 20,
     "metadata": {},
     "output_type": "execute_result"
    }
   ],
   "source": [
    "bundle.metricValues.data[0]\n",
    "\n",
    "\n"
   ]
  },
  {
   "cell_type": "code",
   "execution_count": null,
   "id": "42249c5a-0e4a-4743-adf0-227dd524d504",
   "metadata": {},
   "outputs": [],
   "source": []
  }
 ],
 "metadata": {
  "kernelspec": {
   "display_name": "LSST-2021.10.13 Py3",
   "language": "python",
   "name": "lsst_sims_maf-2021.10.13"
  },
  "language_info": {
   "codemirror_mode": {
    "name": "ipython",
    "version": 3
   },
   "file_extension": ".py",
   "mimetype": "text/x-python",
   "name": "python",
   "nbconvert_exporter": "python",
   "pygments_lexer": "ipython3",
   "version": "3.8.8"
  }
 },
 "nbformat": 4,
 "nbformat_minor": 5
}
